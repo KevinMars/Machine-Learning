{
 "metadata": {
  "name": "",
  "signature": "sha256:d6e8553777953cd696af5b2dcbbcda1bbf54c715ee369f8739e0542dbeada959"
 },
 "nbformat": 3,
 "nbformat_minor": 0,
 "worksheets": [
  {
   "cells": [
    {
     "cell_type": "code",
     "collapsed": false,
     "input": [
      "%matplotlib inline\n",
      "import pandas as pd\n",
      "import numpy as np\n",
      "from datetime import datetime\n",
      "import matplotlib.pyplot as plt\n",
      "from sklearn.metrics import recall_score\n",
      "movies = pd.read_csv('Luther_movies_all_time.csv', parse_dates={'date':['release_date']})"
     ],
     "language": "python",
     "metadata": {},
     "outputs": [],
     "prompt_number": 26
    },
    {
     "cell_type": "code",
     "collapsed": false,
     "input": [
      "df = movies.drop(['Unnamed: 8','Unnamed: 9'], axis=1)\n",
      "df = df.dropna(axis=0, subset = ['budget','openingweekendgross','director'])\n",
      "print len (df)\n",
      "df.head()"
     ],
     "language": "python",
     "metadata": {},
     "outputs": [
      {
       "output_type": "stream",
       "stream": "stdout",
       "text": [
        "1809\n"
       ]
      },
      {
       "html": [
        "<div style=\"max-height:1000px;max-width:1500px;overflow:auto;\">\n",
        "<table border=\"1\" class=\"dataframe\">\n",
        "  <thead>\n",
        "    <tr style=\"text-align: right;\">\n",
        "      <th></th>\n",
        "      <th>date</th>\n",
        "      <th>director</th>\n",
        "      <th>rating</th>\n",
        "      <th>openingweekendgross</th>\n",
        "      <th>movie_title</th>\n",
        "      <th>domestic_total_gross</th>\n",
        "      <th>runtime</th>\n",
        "      <th>budget</th>\n",
        "    </tr>\n",
        "  </thead>\n",
        "  <tbody>\n",
        "    <tr>\n",
        "      <th>1</th>\n",
        "      <td>1997-12-19</td>\n",
        "      <td>     James Cameron</td>\n",
        "      <td> PG-13</td>\n",
        "      <td>  28638131</td>\n",
        "      <td>                                   Titanic</td>\n",
        "      <td> 600788188</td>\n",
        "      <td> 194</td>\n",
        "      <td> 200000000</td>\n",
        "    </tr>\n",
        "    <tr>\n",
        "      <th>2</th>\n",
        "      <td>2012-05-04</td>\n",
        "      <td>       Joss Whedon</td>\n",
        "      <td> PG-13</td>\n",
        "      <td> 207438708</td>\n",
        "      <td>                     Marvel's The Avengers</td>\n",
        "      <td> 623357910</td>\n",
        "      <td> 142</td>\n",
        "      <td> 220000000</td>\n",
        "    </tr>\n",
        "    <tr>\n",
        "      <th>3</th>\n",
        "      <td>2008-07-18</td>\n",
        "      <td> Christopher Nolan</td>\n",
        "      <td> PG-13</td>\n",
        "      <td> 158411483</td>\n",
        "      <td>                           The Dark Knight</td>\n",
        "      <td> 533345358</td>\n",
        "      <td> 150</td>\n",
        "      <td> 185000000</td>\n",
        "    </tr>\n",
        "    <tr>\n",
        "      <th>4</th>\n",
        "      <td>1999-05-19</td>\n",
        "      <td>      George Lucas</td>\n",
        "      <td>    PG</td>\n",
        "      <td>  64820970</td>\n",
        "      <td> Star Wars: Episode I - The Phantom Menace</td>\n",
        "      <td> 431088295</td>\n",
        "      <td> 133</td>\n",
        "      <td> 115000000</td>\n",
        "    </tr>\n",
        "    <tr>\n",
        "      <th>5</th>\n",
        "      <td>1977-05-25</td>\n",
        "      <td>      George Lucas</td>\n",
        "      <td>    PG</td>\n",
        "      <td>   6806951</td>\n",
        "      <td>                                 Star Wars</td>\n",
        "      <td> 307263857</td>\n",
        "      <td> 121</td>\n",
        "      <td>  11000000</td>\n",
        "    </tr>\n",
        "  </tbody>\n",
        "</table>\n",
        "</div>"
       ],
       "metadata": {},
       "output_type": "pyout",
       "prompt_number": 4,
       "text": [
        "        date           director rating  openingweekendgross  \\\n",
        "1 1997-12-19      James Cameron  PG-13             28638131   \n",
        "2 2012-05-04        Joss Whedon  PG-13            207438708   \n",
        "3 2008-07-18  Christopher Nolan  PG-13            158411483   \n",
        "4 1999-05-19       George Lucas     PG             64820970   \n",
        "5 1977-05-25       George Lucas     PG              6806951   \n",
        "\n",
        "                                 movie_title  domestic_total_gross runtime  \\\n",
        "1                                    Titanic             600788188     194   \n",
        "2                      Marvel's The Avengers             623357910     142   \n",
        "3                            The Dark Knight             533345358     150   \n",
        "4  Star Wars: Episode I - The Phantom Menace             431088295     133   \n",
        "5                                  Star Wars             307263857     121   \n",
        "\n",
        "      budget  \n",
        "1  200000000  \n",
        "2  220000000  \n",
        "3  185000000  \n",
        "4  115000000  \n",
        "5   11000000  "
       ]
      }
     ],
     "prompt_number": 4
    },
    {
     "cell_type": "code",
     "collapsed": false,
     "input": [
      "df2 = df[df.rating != 'G']\n",
      "df3 = df2[df2.rating != 'Unrated']\n",
      "df4 = df3[df3.rating != 'NC-17']"
     ],
     "language": "python",
     "metadata": {},
     "outputs": [],
     "prompt_number": 5
    },
    {
     "cell_type": "markdown",
     "metadata": {},
     "source": [
      "## Supervised Learning Challenge 11"
     ]
    },
    {
     "cell_type": "code",
     "collapsed": false,
     "input": [
      "df4.groupby('rating')['date'].count().plot(kind='bar')"
     ],
     "language": "python",
     "metadata": {},
     "outputs": [
      {
       "metadata": {},
       "output_type": "pyout",
       "prompt_number": 7,
       "text": [
        "<matplotlib.axes.AxesSubplot at 0x115b58d10>"
       ]
      },
      {
       "metadata": {},
       "output_type": "display_data",
       "png": "[encoded data removed]",
       "text": [
        "<matplotlib.figure.Figure at 0x110250a50>"
       ]
      }
     ],
     "prompt_number": 7
    },
    {
     "cell_type": "code",
     "collapsed": false,
     "input": [
      "df4['budget'] = df4.budget.astype(int)\n",
      "df4['runtime'] = df4.runtime.astype(int)\n",
      "df4['domestic_total_gross'] = df4.domestic_total_gross.astype(int)"
     ],
     "language": "python",
     "metadata": {},
     "outputs": [],
     "prompt_number": 17
    },
    {
     "cell_type": "code",
     "collapsed": false,
     "input": [
      "from sklearn.cross_validation import train_test_split\n",
      "\n",
      "X = df4[['runtime','domestic_total_gross','budget']]\n",
      "Y = df4['rating']\n",
      "\n",
      "X_train, X_test, Y_train, Y_test = train_test_split(X,Y, test_size = .30, random_state=4444)"
     ],
     "language": "python",
     "metadata": {},
     "outputs": [],
     "prompt_number": 18
    },
    {
     "cell_type": "code",
     "collapsed": false,
     "input": [
      "from sklearn.metrics import accuracy_score\n",
      "from sklearn.neighbors import KNeighborsClassifier\n",
      "from sklearn.linear_model import LogisticRegression\n",
      "from sklearn.cross_validation import cross_val_score\n",
      "import numpy as np\n",
      "\n",
      "for k in range (1,30):\n",
      "    model_knn = KNeighborsClassifier(n_neighbors=(k*50))\n",
      "    accuracy_knn = np.mean(cross_val_score(model_knn,X,Y, cv=10))\n",
      "    print 'KNN(k=%i) accuracy %.3f' % (k, accuracy_knn)"
     ],
     "language": "python",
     "metadata": {},
     "outputs": [
      {
       "output_type": "stream",
       "stream": "stdout",
       "text": [
        "KNN(k=1) accuracy 0.224\n",
        "KNN(k=2) accuracy 0.272"
       ]
      },
      {
       "output_type": "stream",
       "stream": "stdout",
       "text": [
        "\n",
        "KNN(k=3) accuracy 0.332"
       ]
      },
      {
       "output_type": "stream",
       "stream": "stdout",
       "text": [
        "\n",
        "KNN(k=4) accuracy 0.363"
       ]
      },
      {
       "output_type": "stream",
       "stream": "stdout",
       "text": [
        "\n",
        "KNN(k=5) accuracy 0.394"
       ]
      },
      {
       "output_type": "stream",
       "stream": "stdout",
       "text": [
        "\n",
        "KNN(k=6) accuracy 0.424"
       ]
      },
      {
       "output_type": "stream",
       "stream": "stdout",
       "text": [
        "\n",
        "KNN(k=7) accuracy 0.451"
       ]
      },
      {
       "output_type": "stream",
       "stream": "stdout",
       "text": [
        "\n",
        "KNN(k=8) accuracy 0.464"
       ]
      },
      {
       "output_type": "stream",
       "stream": "stdout",
       "text": [
        "\n",
        "KNN(k=9) accuracy 0.468"
       ]
      },
      {
       "output_type": "stream",
       "stream": "stdout",
       "text": [
        "\n",
        "KNN(k=10) accuracy 0.471"
       ]
      },
      {
       "output_type": "stream",
       "stream": "stdout",
       "text": [
        "\n",
        "KNN(k=11) accuracy 0.470"
       ]
      },
      {
       "output_type": "stream",
       "stream": "stdout",
       "text": [
        "\n",
        "KNN(k=12) accuracy 0.479"
       ]
      },
      {
       "output_type": "stream",
       "stream": "stdout",
       "text": [
        "\n",
        "KNN(k=13) accuracy 0.476"
       ]
      },
      {
       "output_type": "stream",
       "stream": "stdout",
       "text": [
        "\n",
        "KNN(k=14) accuracy 0.480"
       ]
      },
      {
       "output_type": "stream",
       "stream": "stdout",
       "text": [
        "\n",
        "KNN(k=15) accuracy 0.481"
       ]
      },
      {
       "output_type": "stream",
       "stream": "stdout",
       "text": [
        "\n",
        "KNN(k=16) accuracy 0.490"
       ]
      },
      {
       "output_type": "stream",
       "stream": "stdout",
       "text": [
        "\n",
        "KNN(k=17) accuracy 0.496"
       ]
      },
      {
       "output_type": "stream",
       "stream": "stdout",
       "text": [
        "\n",
        "KNN(k=18) accuracy 0.497"
       ]
      },
      {
       "output_type": "stream",
       "stream": "stdout",
       "text": [
        "\n",
        "KNN(k=19) accuracy 0.496"
       ]
      },
      {
       "output_type": "stream",
       "stream": "stdout",
       "text": [
        "\n",
        "KNN(k=20) accuracy 0.491"
       ]
      },
      {
       "output_type": "stream",
       "stream": "stdout",
       "text": [
        "\n",
        "KNN(k=21) accuracy 0.497"
       ]
      },
      {
       "output_type": "stream",
       "stream": "stdout",
       "text": [
        "\n",
        "KNN(k=22) accuracy 0.498"
       ]
      },
      {
       "output_type": "stream",
       "stream": "stdout",
       "text": [
        "\n",
        "KNN(k=23) accuracy 0.499"
       ]
      },
      {
       "output_type": "stream",
       "stream": "stdout",
       "text": [
        "\n",
        "KNN(k=24) accuracy 0.499"
       ]
      },
      {
       "output_type": "stream",
       "stream": "stdout",
       "text": [
        "\n",
        "KNN(k=25) accuracy 0.498"
       ]
      },
      {
       "output_type": "stream",
       "stream": "stdout",
       "text": [
        "\n",
        "KNN(k=26) accuracy 0.502"
       ]
      },
      {
       "output_type": "stream",
       "stream": "stdout",
       "text": [
        "\n",
        "KNN(k=27) accuracy 0.503"
       ]
      },
      {
       "output_type": "stream",
       "stream": "stdout",
       "text": [
        "\n",
        "KNN(k=28) accuracy 0.490"
       ]
      },
      {
       "output_type": "stream",
       "stream": "stdout",
       "text": [
        "\n",
        "KNN(k=29) accuracy 0.476"
       ]
      },
      {
       "output_type": "stream",
       "stream": "stdout",
       "text": [
        "\n"
       ]
      }
     ],
     "prompt_number": 20
    },
    {
     "cell_type": "code",
     "collapsed": false,
     "input": [
      "model = LogisticRegression()\n",
      "accuracy = np.mean(cross_val_score(model, X,Y, cv=10))\n",
      "print 'Logistic Regression (L2 penalty) accuracy: %.3f' % accuracy\n",
      "\n",
      "# L1 and L2 are just two different forms of regularization. The form of\n",
      "# what is added to the cost funtion is slightly different. L2 is default,\n",
      "# Let's try L1 here, too. Different problems work better with different\n",
      "# penalty forms.\n",
      "model = LogisticRegression(penalty='l1')\n",
      "accuracy = np.mean(cross_val_score(model, X,Y, cv=10))\n",
      "print 'Logistic Regression (L1 penalty) accuracy: %.3f' % accuracy\n",
      "\n",
      "for C in np.linspace(0.05,100,10):\n",
      "    model = LogisticRegression(penalty='l1', C=C)\n",
      "    accuracy = np.mean(cross_val_score(model, X,Y, cv=10))\n",
      "    print 'Logistic Regression (L1 penalty, C=%.2f) accuracy: %.3f' % (C,accuracy)\n"
     ],
     "language": "python",
     "metadata": {},
     "outputs": [
      {
       "output_type": "stream",
       "stream": "stdout",
       "text": [
        "Logistic Regression (L2 penalty) accuracy: 0.418\n",
        "Logistic Regression (L1 penalty) accuracy: 0.533"
       ]
      },
      {
       "output_type": "stream",
       "stream": "stdout",
       "text": [
        "\n",
        "Logistic Regression (L1 penalty, C=0.05) accuracy: 0.532"
       ]
      },
      {
       "output_type": "stream",
       "stream": "stdout",
       "text": [
        "\n",
        "Logistic Regression (L1 penalty, C=11.16) accuracy: 0.533"
       ]
      },
      {
       "output_type": "stream",
       "stream": "stdout",
       "text": [
        "\n",
        "Logistic Regression (L1 penalty, C=22.26) accuracy: 0.531"
       ]
      },
      {
       "output_type": "stream",
       "stream": "stdout",
       "text": [
        "\n",
        "Logistic Regression (L1 penalty, C=33.37) accuracy: 0.532"
       ]
      },
      {
       "output_type": "stream",
       "stream": "stdout",
       "text": [
        "\n",
        "Logistic Regression (L1 penalty, C=44.47) accuracy: 0.533"
       ]
      },
      {
       "output_type": "stream",
       "stream": "stdout",
       "text": [
        "\n",
        "Logistic Regression (L1 penalty, C=55.58) accuracy: 0.532"
       ]
      },
      {
       "output_type": "stream",
       "stream": "stdout",
       "text": [
        "\n",
        "Logistic Regression (L1 penalty, C=66.68) accuracy: 0.532"
       ]
      },
      {
       "output_type": "stream",
       "stream": "stdout",
       "text": [
        "\n",
        "Logistic Regression (L1 penalty, C=77.79) accuracy: 0.531"
       ]
      },
      {
       "output_type": "stream",
       "stream": "stdout",
       "text": [
        "\n",
        "Logistic Regression (L1 penalty, C=88.89) accuracy: 0.532"
       ]
      },
      {
       "output_type": "stream",
       "stream": "stdout",
       "text": [
        "\n",
        "Logistic Regression (L1 penalty, C=100.00) accuracy: 0.533"
       ]
      },
      {
       "output_type": "stream",
       "stream": "stdout",
       "text": [
        "\n"
       ]
      }
     ],
     "prompt_number": 21
    },
    {
     "cell_type": "code",
     "collapsed": false,
     "input": [
      "#used irmak's class that makes baseline predictor for R rated movies\n",
      "class Baseline(object):\n",
      "    \n",
      "    def __init__(self, guess):\n",
      "        self.guess = guess\n",
      "        \n",
      "    def fit(self, X, Y):\n",
      "        # Do nothing. This classifier\n",
      "        # doesn't really train on data,\n",
      "        # it will only guess the same thing!\n",
      "        pass\n",
      "    \n",
      "    def predict(self, X):\n",
      "        # create an array full of the exact same\n",
      "        # guess and return it!\n",
      "        pred = np.array([self.guess] * len(X))\n",
      "        return pred        \n",
      "    \n",
      "    def score(self, X,Y):\n",
      "        # Calculate the accuracy of your\n",
      "        # stupid predictions against the\n",
      "        # actual values\n",
      "        Y_pred = self.predict(X)\n",
      "        Y_true = Y\n",
      "        return accuracy_score(Y_true, Y_pred)\n",
      "    \n",
      "    def get_params(self, deep=False):\n",
      "        # Scikitlearn models return a dictionary\n",
      "        # of {parameter: value} with this function\n",
      "        # We only have one parameter, out guess.\n",
      "        # You don't even need to worry about the \n",
      "        # \"deep\" kw argument, we're not using it.\n",
      "        return {'guess': self.guess}\n",
      "    \n",
      "# Ok, now that our class has fit, predict, score and get_params\n",
      "# just as cross_val_score expects, we can run it!\n",
      "model = Baseline(guess=\"R\")\n",
      "accuracy = np.mean(cross_val_score(model, X,Y, cv=10))\n",
      "print 'Baseline R guess accuracy: %.3f' % accuracy\n"
     ],
     "language": "python",
     "metadata": {},
     "outputs": [
      {
       "output_type": "stream",
       "stream": "stdout",
       "text": [
        "Baseline R guess accuracy: 0.437\n"
       ]
      }
     ],
     "prompt_number": 22
    },
    {
     "cell_type": "code",
     "collapsed": false,
     "input": [
      "model_logit = LogisticRegression(penalty='l1', C=22)\n",
      "model_logit.fit(X, Y)\n",
      "\n",
      "model_logit.coef_"
     ],
     "language": "python",
     "metadata": {},
     "outputs": [
      {
       "metadata": {},
       "output_type": "pyout",
       "prompt_number": 23,
       "text": [
        "array([[ -2.42659531e-02,   4.00109651e-09,   6.44272068e-09],\n",
        "       [ -2.69182881e-03,   2.59205721e-09,   7.58974263e-09],\n",
        "       [  1.60935318e-02,  -7.05253358e-09,  -1.58817657e-08]])"
       ]
      }
     ],
     "prompt_number": 23
    },
    {
     "cell_type": "code",
     "collapsed": false,
     "input": [
      "print Y[:10]\n",
      "print model_logit.coef_"
     ],
     "language": "python",
     "metadata": {},
     "outputs": [
      {
       "output_type": "stream",
       "stream": "stdout",
       "text": [
        "1     PG-13\n",
        "2     PG-13\n",
        "3     PG-13\n",
        "4        PG\n",
        "5        PG\n",
        "6     PG-13\n",
        "7        PG\n",
        "8        PG\n",
        "9     PG-13\n",
        "10    PG-13\n",
        "Name: rating, dtype: object\n",
        "[[ -2.42659531e-02   4.00109651e-09   6.44272068e-09]\n",
        " [ -2.69182881e-03   2.59205721e-09   7.58974263e-09]\n",
        " [  1.60935318e-02  -7.05253358e-09  -1.58817657e-08]]\n"
       ]
      }
     ],
     "prompt_number": 24
    },
    {
     "cell_type": "markdown",
     "metadata": {},
     "source": [
      "## Classification Performance Challenge 4"
     ]
    },
    {
     "cell_type": "code",
     "collapsed": false,
     "input": [
      "accuracy = np.mean(cross_val_score(model_logit, X,Y, cv=5))\n",
      "precision = np.mean(cross_val_score(model_logit, X,Y, cv=5, scoring = 'precision'))\n",
      "recall = np.mean(cross_val_score(model_logit, X,Y, cv=5, scoring = 'recall'))\n",
      "print 'Logistic Regression (L1 penalty) accuracy: %.3f' % accuracy\n",
      "print 'Logistic Regression (L1 penalty) precision: %.3f' % precision\n",
      "print 'Logistic Regression (L1 penalty) recall: %.3f' % recall\n"
     ],
     "language": "python",
     "metadata": {},
     "outputs": [
      {
       "output_type": "stream",
       "stream": "stdout",
       "text": [
        "Logistic Regression (L1 penalty) accuracy: 0.508\n",
        "Logistic Regression (L1 penalty) precision: 0.410\n",
        "Logistic Regression (L1 penalty) recall: 0.508\n"
       ]
      }
     ],
     "prompt_number": 27
    },
    {
     "cell_type": "code",
     "collapsed": false,
     "input": [
      "model_knn1 = KNeighborsClassifier(n_neighbors=1350)\n",
      "accuracy = np.mean(cross_val_score(model_knn1, X,Y, cv=5))\n",
      "precision = np.mean(cross_val_score(model_knn1, X,Y, cv=5, scoring='precision'))\n",
      "recall = np.mean(cross_val_score(model_knn1, X,Y, cv=5, scoring='recall'))\n",
      "print 'KNN accuracy: %.3f' % accuracy\n",
      "print 'KNN precision: %.3f' % precision\n",
      "print 'KNN recall: %.3f' % recall\n"
     ],
     "language": "python",
     "metadata": {},
     "outputs": [
      {
       "output_type": "stream",
       "stream": "stdout",
       "text": [
        "KNN accuracy: 0.475\n",
        "KNN precision: 0.266\n",
        "KNN recall: 0.475\n"
       ]
      }
     ],
     "prompt_number": 28
    },
    {
     "cell_type": "code",
     "collapsed": false,
     "input": [
      "from sklearn.tree import DecisionTreeClassifier\n",
      "model_tree = DecisionTreeClassifier().fit(X_train,Y_train)\n",
      "Y_pred_tree = model_tree.predict(X_test)\n",
      "print accuracy_score(Y_test, Y_pred_tree)"
     ],
     "language": "python",
     "metadata": {},
     "outputs": [
      {
       "output_type": "stream",
       "stream": "stdout",
       "text": [
        "0.492481203008\n"
       ]
      }
     ],
     "prompt_number": 29
    },
    {
     "cell_type": "markdown",
     "metadata": {},
     "source": [
      "## Decision Tree Challenge 2"
     ]
    },
    {
     "cell_type": "code",
     "collapsed": false,
     "input": [
      "from sklearn.externals.six import StringIO  \n",
      "import pydot \n",
      "from sklearn.tree import export_graphviz\n",
      "\n",
      "dot_data = StringIO() \n",
      "export_graphviz(model_tree, out_file=dot_data) \n",
      "graph = pydot.graph_from_dot_data(dot_data.getvalue()) \n",
      "graph.write_pdf('model_tree.pdf')"
     ],
     "language": "python",
     "metadata": {},
     "outputs": []
    }
   ],
   "metadata": {}
  }
 ]
}