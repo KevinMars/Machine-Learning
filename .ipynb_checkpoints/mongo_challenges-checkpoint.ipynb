{
 "metadata": {
  "name": "",
  "signature": "sha256:819041a66e4aabfa6831234b5c67ff5ef95ebe71528f2025a1c15c0d341b1d76"
 },
 "nbformat": 3,
 "nbformat_minor": 0,
 "worksheets": [
  {
   "cells": [
    {
     "cell_type": "code",
     "collapsed": false,
     "input": [
      "from pymongo import MongoClient\n",
      "from collections import defaultdict\n",
      "import operator\n",
      "import pickle"
     ],
     "language": "python",
     "metadata": {},
     "outputs": [],
     "prompt_number": 133
    },
    {
     "cell_type": "code",
     "collapsed": false,
     "input": [
      "client = MongoClient()"
     ],
     "language": "python",
     "metadata": {},
     "outputs": [],
     "prompt_number": 5
    },
    {
     "cell_type": "code",
     "collapsed": false,
     "input": [
      "with open(\"heavy_metal_parsed.pkl\", 'r') as infile:\n",
      "    reviews = pickle.load(infile)\n"
     ],
     "language": "python",
     "metadata": {},
     "outputs": [],
     "prompt_number": 6
    },
    {
     "cell_type": "code",
     "collapsed": false,
     "input": [
      "reviews[0].keys()"
     ],
     "language": "python",
     "metadata": {},
     "outputs": [
      {
       "metadata": {},
       "output_type": "pyout",
       "prompt_number": 7,
       "text": [
        "['raw',\n",
        " 'head',\n",
        " 'metal_cred',\n",
        " 'title',\n",
        " 'direct',\n",
        " 'solid_metal_nuggets',\n",
        " 'cast',\n",
        " 'the_meat',\n",
        " 'year',\n",
        " 'sections']"
       ]
      }
     ],
     "prompt_number": 7
    },
    {
     "cell_type": "code",
     "collapsed": false,
     "input": [
      "reviews[0]"
     ],
     "language": "python",
     "metadata": {},
     "outputs": [
      {
       "metadata": {},
       "output_type": "pyout",
       "prompt_number": 8,
       "text": [
        "{'cast': [u'Frank Zappa',\n",
        "  u'Ringo Starr',\n",
        "  u'Mark Volman',\n",
        "  u'Howard Kaylan',\n",
        "  u'Keith Moon'],\n",
        " 'direct': [u'Tony Palmer', u'Frank Zappa'],\n",
        " 'head': [u'200 MOTELS (1971)',\n",
        "  u'DIRECTORS: Tony Palmer, Frank Zappa',\n",
        "  u'CAST: Frank Zappa, Ringo Starr, Mark Volman, Howard Kaylan, Keith\\nMoon'],\n",
        " 'metal_cred': [u'METAL CRED', u'Frank Zappa', u'Nun Desecration'],\n",
        " 'raw': [u'200 MOTELS (1971)',\n",
        "  u'DIRECTORS: Tony Palmer, Frank Zappa',\n",
        "  u'CAST: Frank Zappa, Ringo Starr, Mark Volman, Howard Kaylan, Keith\\nMoon',\n",
        "  u'METAL CRED',\n",
        "  u'Frank Zappa',\n",
        "  u'Nun Desecration',\n",
        "  u'THE MEAT',\n",
        "  u'Beyond his metal sainthood for\\nbattling the censor-witches of the PMRC and getting named checked by Deep\\nPurple in \\u201cSmoke on the Water\\u201d, musical visionary Frank Zappa led many rock\\nfans to heavy metal.',\n",
        "  u'And, from there, he led many metal\\nfans to the outer expanses of rock\\u2019s possibilities.',\n",
        "  u'Zappa also opened countless banging\\nheads to the far reaches of jazz, classical, doo-wop, and any other art form\\nthat could involve (brilliant) noise and (brilliantly dumb) dirty jokes.',\n",
        "  u'200\\nMotels is Zappa\\u2019s first crack at major motion picture madness, and it\\nembodies the much forgotten cultural moment when acid rock tumbled forever into\\nthe black pits of rising heavy metal.',\n",
        "  u'Surrealistic sketches and\\npsychedelic set pieces about the insanity of a being on tour are interspersed\\namong performances in which the Mothers jam with London Philharmonic.',\n",
        "  u'Ringo Starr plays Zappa during the\\ntalking parts. Zappa himself, plays guitar throughout, demonstrating how very\\nmuch of a six-string maestro he was, every lick on par with his future\\ncollaborators Steve Vail and Yngwie Malmsteen.',\n",
        "  u'SOLID METAL NUGGETS',\n",
        "  u'\\u2022 A psychedelic cartoon interlude\\nadmiringly tweaks Black Sabbath and Grand Funk Railroad.',\n",
        "  u'\\u2022 Keith Moon, madman drummer of the\\nWho, pops up\\u2014and off\\u2014as \\u201cThe Hot Nun.\\u201d'],\n",
        " 'sections': [[u'200 MOTELS (1971)',\n",
        "   u'DIRECTORS: Tony Palmer, Frank Zappa',\n",
        "   u'CAST: Frank Zappa, Ringo Starr, Mark Volman, Howard Kaylan, Keith\\nMoon'],\n",
        "  [u'METAL CRED', u'Frank Zappa', u'Nun Desecration'],\n",
        "  [u'THE MEAT',\n",
        "   u'Beyond his metal sainthood for\\nbattling the censor-witches of the PMRC and getting named checked by Deep\\nPurple in \\u201cSmoke on the Water\\u201d, musical visionary Frank Zappa led many rock\\nfans to heavy metal.',\n",
        "   u'And, from there, he led many metal\\nfans to the outer expanses of rock\\u2019s possibilities.',\n",
        "   u'Zappa also opened countless banging\\nheads to the far reaches of jazz, classical, doo-wop, and any other art form\\nthat could involve (brilliant) noise and (brilliantly dumb) dirty jokes.',\n",
        "   u'200\\nMotels is Zappa\\u2019s first crack at major motion picture madness, and it\\nembodies the much forgotten cultural moment when acid rock tumbled forever into\\nthe black pits of rising heavy metal.',\n",
        "   u'Surrealistic sketches and\\npsychedelic set pieces about the insanity of a being on tour are interspersed\\namong performances in which the Mothers jam with London Philharmonic.',\n",
        "   u'Ringo Starr plays Zappa during the\\ntalking parts. Zappa himself, plays guitar throughout, demonstrating how very\\nmuch of a six-string maestro he was, every lick on par with his future\\ncollaborators Steve Vail and Yngwie Malmsteen.'],\n",
        "  [u'SOLID METAL NUGGETS',\n",
        "   u'\\u2022 A psychedelic cartoon interlude\\nadmiringly tweaks Black Sabbath and Grand Funk Railroad.',\n",
        "   u'\\u2022 Keith Moon, madman drummer of the\\nWho, pops up\\u2014and off\\u2014as \\u201cThe Hot Nun.\\u201d']],\n",
        " 'solid_metal_nuggets': [u'SOLID METAL NUGGETS',\n",
        "  u'\\u2022 A psychedelic cartoon interlude\\nadmiringly tweaks Black Sabbath and Grand Funk Railroad.',\n",
        "  u'\\u2022 Keith Moon, madman drummer of the\\nWho, pops up\\u2014and off\\u2014as \\u201cThe Hot Nun.\\u201d'],\n",
        " 'the_meat': [u'THE MEAT',\n",
        "  u'Beyond his metal sainthood for\\nbattling the censor-witches of the PMRC and getting named checked by Deep\\nPurple in \\u201cSmoke on the Water\\u201d, musical visionary Frank Zappa led many rock\\nfans to heavy metal.',\n",
        "  u'And, from there, he led many metal\\nfans to the outer expanses of rock\\u2019s possibilities.',\n",
        "  u'Zappa also opened countless banging\\nheads to the far reaches of jazz, classical, doo-wop, and any other art form\\nthat could involve (brilliant) noise and (brilliantly dumb) dirty jokes.',\n",
        "  u'200\\nMotels is Zappa\\u2019s first crack at major motion picture madness, and it\\nembodies the much forgotten cultural moment when acid rock tumbled forever into\\nthe black pits of rising heavy metal.',\n",
        "  u'Surrealistic sketches and\\npsychedelic set pieces about the insanity of a being on tour are interspersed\\namong performances in which the Mothers jam with London Philharmonic.',\n",
        "  u'Ringo Starr plays Zappa during the\\ntalking parts. Zappa himself, plays guitar throughout, demonstrating how very\\nmuch of a six-string maestro he was, every lick on par with his future\\ncollaborators Steve Vail and Yngwie Malmsteen.'],\n",
        " 'title': u'200 MOTELS',\n",
        " 'year': 1971}"
       ]
      }
     ],
     "prompt_number": 8
    },
    {
     "cell_type": "code",
     "collapsed": false,
     "input": [
      "len(reviews)"
     ],
     "language": "python",
     "metadata": {},
     "outputs": [
      {
       "metadata": {},
       "output_type": "pyout",
       "prompt_number": 9,
       "text": [
        "877"
       ]
      }
     ],
     "prompt_number": 9
    },
    {
     "cell_type": "code",
     "collapsed": false,
     "input": [
      "hmm = client.dsbc.hmm"
     ],
     "language": "python",
     "metadata": {},
     "outputs": [],
     "prompt_number": 17
    },
    {
     "cell_type": "code",
     "collapsed": false,
     "input": [
      "hmm.insert(reviews[0])"
     ],
     "language": "python",
     "metadata": {},
     "outputs": [
      {
       "metadata": {},
       "output_type": "pyout",
       "prompt_number": 18,
       "text": [
        "ObjectId('543fd9a1791e4b2f002918e1')"
       ]
      }
     ],
     "prompt_number": 18
    },
    {
     "cell_type": "code",
     "collapsed": false,
     "input": [
      "hmm.find()"
     ],
     "language": "python",
     "metadata": {},
     "outputs": [
      {
       "metadata": {},
       "output_type": "pyout",
       "prompt_number": 19,
       "text": [
        "<pymongo.cursor.Cursor at 0x10ed449d0>"
       ]
      }
     ],
     "prompt_number": 19
    },
    {
     "cell_type": "code",
     "collapsed": false,
     "input": [
      "cursor = hmm.find()"
     ],
     "language": "python",
     "metadata": {},
     "outputs": [],
     "prompt_number": 21
    },
    {
     "cell_type": "code",
     "collapsed": false,
     "input": [
      "len(list(cursor))"
     ],
     "language": "python",
     "metadata": {},
     "outputs": [
      {
       "metadata": {},
       "output_type": "pyout",
       "prompt_number": 22,
       "text": [
        "856"
       ]
      }
     ],
     "prompt_number": 22
    },
    {
     "cell_type": "code",
     "collapsed": false,
     "input": [
      "hmm.count()"
     ],
     "language": "python",
     "metadata": {},
     "outputs": [
      {
       "metadata": {},
       "output_type": "pyout",
       "prompt_number": 23,
       "text": [
        "856"
       ]
      }
     ],
     "prompt_number": 23
    },
    {
     "cell_type": "markdown",
     "metadata": {},
     "source": [
      "## Challenge 1"
     ]
    },
    {
     "cell_type": "code",
     "collapsed": false,
     "input": [
      "import matplotlib.pyplot as plt\n",
      "%matplotlib inline\n",
      "\n",
      "from bson.son import SON\n",
      "\n",
      "year_list = hmm.aggregate([{\"$group\" :{\"_id\" : \"$year\", \"year\" : {\"$sum\": 1}}}, {\"$sort\": SON([(\"year\", 1)])}])"
     ],
     "language": "python",
     "metadata": {},
     "outputs": [],
     "prompt_number": 24
    },
    {
     "cell_type": "code",
     "collapsed": false,
     "input": [
      "year_list = year_list['result']"
     ],
     "language": "python",
     "metadata": {},
     "outputs": [],
     "prompt_number": 25
    },
    {
     "cell_type": "code",
     "collapsed": false,
     "input": [
      "years = []\n",
      "movies = []\n",
      "for x in year_list:\n",
      "    years.append(x['_id'])\n",
      "    movies.append(x['year'])"
     ],
     "language": "python",
     "metadata": {},
     "outputs": [],
     "prompt_number": 26
    },
    {
     "cell_type": "code",
     "collapsed": false,
     "input": [
      "plt.bar(years, movies)"
     ],
     "language": "python",
     "metadata": {},
     "outputs": [
      {
       "metadata": {},
       "output_type": "pyout",
       "prompt_number": 27,
       "text": [
        "<Container object of 74 artists>"
       ]
      },
      {
       "metadata": {},
       "output_type": "display_data",
       "png": "[encoded data removed]",
       "text": [
        "<matplotlib.figure.Figure at 0x10ed44d90>"
       ]
      }
     ],
     "prompt_number": 27
    },
    {
     "cell_type": "markdown",
     "metadata": {},
     "source": [
      "## Challenge 2"
     ]
    },
    {
     "cell_type": "heading",
     "level": 5,
     "metadata": {},
     "source": [
      "This is how you do it on mongo"
     ]
    },
    {
     "cell_type": "code",
     "collapsed": false,
     "input": [
      "# db.hmm.aggregate([{$group :{_id :{title: \"$title\"}, cast: {$addToSet: \"$cast\"}}},{$unwind:\"$cast\"},{$unwind:\"$cast\"}, \n",
      "#                   { $group: { _id: \"$cast\", castCount: {$sum:1}}},{$sort : {\"castCount\":-1}}])"
     ],
     "language": "python",
     "metadata": {},
     "outputs": [],
     "prompt_number": 1
    },
    {
     "cell_type": "code",
     "collapsed": false,
     "input": [
      "cast_count = hmm.aggregate([{\"$group\" : {\"_id\" : {\"title\": \"$title\"}, \"cast\" : {\"$addToSet\":\"$cast\"}}},{\"$unwind\":\"$cast\"},{\"$unwind\":\"$cast\"}, \n",
      "               {\"$group\" : {\"_id\": {\"cast\" : \"$cast\"}, \"castCount\": {\"$sum\":1}}},{\"$sort\" : SON([(\"castCount\",-1)])}])\n",
      "cast_count['result'][1]"
     ],
     "language": "python",
     "metadata": {},
     "outputs": [
      {
       "metadata": {},
       "output_type": "pyout",
       "prompt_number": 136,
       "text": [
        "{u'_id': {u'cast': u'Alice Cooper'}, u'castCount': 15}"
       ]
      }
     ],
     "prompt_number": 136
    },
    {
     "cell_type": "markdown",
     "metadata": {},
     "source": [
      "## Challenge 3"
     ]
    },
    {
     "cell_type": "code",
     "collapsed": false,
     "input": [
      "title_list = hmm.aggregate([ {\"$group\" : {\"_id\" : \"$title\"}}])['result']\n",
      "print title_list[:3]"
     ],
     "language": "python",
     "metadata": {},
     "outputs": [
      {
       "output_type": "stream",
       "stream": "stdout",
       "text": [
        "[{u'_id': u'WHEN THE WIND BLOWS'}, {u'_id': u'TO THE DEVIL A DAUGHTER'}, {u'_id': u'RETURN OF THE LIVING DEAD 3'}]\n"
       ]
      }
     ],
     "prompt_number": 154
    },
    {
     "cell_type": "code",
     "collapsed": false,
     "input": [
      "word_counts = defaultdict(int)\n",
      "title_bank = []\n",
      "for title_dicts in title_list:\n",
      "    for key,value in title_dicts.items():\n",
      "        value = re.sub(r'\\W+', ' ', value)\n",
      "        words_in_title = value.split()\n",
      "        for word in words_in_title:\n",
      "            word_counts[word] += 1 \n",
      "sorted_word_counts = sorted(word_counts.items(), key=operator.itemgetter(1))\n",
      "print sorted_word_counts[-10:]"
     ],
     "language": "python",
     "metadata": {},
     "outputs": [
      {
       "output_type": "stream",
       "stream": "stdout",
       "text": [
        "[(u'HEAVY', 19), (u'ROCK', 21), (u'DEAD', 23), (u'IN', 25), (u'AND', 28), (u'S', 29), (u'A', 36), (u'METAL', 36), (u'OF', 146), (u'THE', 320)]\n"
       ]
      }
     ],
     "prompt_number": 155
    },
    {
     "cell_type": "markdown",
     "metadata": {},
     "source": [
      "## Challenge 4"
     ]
    },
    {
     "cell_type": "heading",
     "level": 6,
     "metadata": {},
     "source": [
      "1970"
     ]
    },
    {
     "cell_type": "code",
     "collapsed": false,
     "input": [
      "metal_cred_keywords = (hmm.aggregate([ {\"$match\" : { \"year\" : { \"$gte\":1970, \"$lt\":1980}}},\n",
      "                      {\"$unwind\":\"$metal_cred\"},{\"$group\" : {\"_id\" : \"$metal_cred\"}}]))['result']\n",
      "metal_cred_count = defaultdict(int)\n",
      "import re\n",
      "for key_dict in metal_cred_keywords:\n",
      "    for key, value in key_dict.items():\n",
      "        value = value.replace(\".\",\"\")\n",
      "        value = re.sub(r'\\W+', ' ', value)\n",
      "        value = value.lower()\n",
      "        word_in_metal_cred = value.split()\n",
      "        for word in word_in_metal_cred:\n",
      "            metal_cred_count[word] += 1 \n",
      "sorted_metal_cred_count = sorted(metal_cred_count.items(), key=operator.itemgetter(1))\n",
      "sorted_metal_cred_count[-10:]"
     ],
     "language": "python",
     "metadata": {},
     "outputs": [
      {
       "metadata": {},
       "output_type": "pyout",
       "prompt_number": 132,
       "text": [
        "[(u'70s', 18),\n",
        " (u'manson', 19),\n",
        " (u's', 19),\n",
        " (u'and', 24),\n",
        " (u'band', 36),\n",
        " (u'song', 38),\n",
        " (u'by', 52),\n",
        " (u'songs', 57),\n",
        " (u'of', 60),\n",
        " (u'the', 82)]"
       ]
      }
     ],
     "prompt_number": 132
    },
    {
     "cell_type": "markdown",
     "metadata": {},
     "source": [
      "###### 1980"
     ]
    },
    {
     "cell_type": "code",
     "collapsed": false,
     "input": [
      "metal_cred_keywords = (hmm.aggregate([ {\"$match\" : { \"year\" : { \"$gte\":1980, \"$lt\":1990}}},\n",
      "                      {\"$unwind\":\"$metal_cred\"},{\"$group\" : {\"_id\" : \"$metal_cred\"}}]))['result']\n",
      "metal_cred_count = defaultdict(int)\n",
      "import re\n",
      "for key_dict in metal_cred_keywords:\n",
      "    for key, value in key_dict.items():\n",
      "        value = value.replace(\".\",\"\")\n",
      "        value = re.sub(r'\\W+', ' ', value)\n",
      "        value = value.lower()\n",
      "        word_in_metal_cred = value.split()\n",
      "        for word in word_in_metal_cred:\n",
      "            metal_cred_count[word] += 1 \n",
      "sorted_metal_cred_count = sorted(metal_cred_count.items(), key=operator.itemgetter(1))\n",
      "sorted_metal_cred_count[-10:]"
     ],
     "language": "python",
     "metadata": {},
     "outputs": [
      {
       "metadata": {},
       "output_type": "pyout",
       "prompt_number": 149,
       "text": [
        "[(u'metal', 29),\n",
        " (u'soundtrack', 29),\n",
        " (u'and', 36),\n",
        " (u'80s', 42),\n",
        " (u'band', 43),\n",
        " (u'song', 46),\n",
        " (u'by', 58),\n",
        " (u'songs', 96),\n",
        " (u'of', 99),\n",
        " (u'the', 146)]"
       ]
      }
     ],
     "prompt_number": 149
    },
    {
     "cell_type": "markdown",
     "metadata": {},
     "source": [
      "##### 1990"
     ]
    },
    {
     "cell_type": "code",
     "collapsed": false,
     "input": [
      "metal_cred_keywords = (hmm.aggregate([ {\"$match\" : { \"year\" : { \"$gte\":1990, \"$lt\":2000}}},\n",
      "                      {\"$unwind\":\"$metal_cred\"},{\"$group\" : {\"_id\" : \"$metal_cred\"}}]))['result']\n",
      "metal_cred_count = defaultdict(int)\n",
      "import re\n",
      "for key_dict in metal_cred_keywords:\n",
      "    for key, value in key_dict.items():\n",
      "        value = value.replace(\".\",\"\")\n",
      "        value = re.sub(r'\\W+', ' ', value)\n",
      "        value = value.lower()\n",
      "        word_in_metal_cred = value.split()\n",
      "        for word in word_in_metal_cred:\n",
      "            metal_cred_count[word] += 1 \n",
      "sorted_metal_cred_count = sorted(metal_cred_count.items(), key=operator.itemgetter(1))\n",
      "sorted_metal_cred_count[-10:]"
     ],
     "language": "python",
     "metadata": {},
     "outputs": [
      {
       "metadata": {},
       "output_type": "pyout",
       "prompt_number": 150,
       "text": [
        "[(u'marilyn', 8),\n",
        " (u'of', 8),\n",
        " (u'and', 9),\n",
        " (u'black', 9),\n",
        " (u'by', 10),\n",
        " (u'band', 12),\n",
        " (u'song', 14),\n",
        " (u'metal', 16),\n",
        " (u'the', 27),\n",
        " (u'soundtrack', 39)]"
       ]
      }
     ],
     "prompt_number": 150
    },
    {
     "cell_type": "markdown",
     "metadata": {},
     "source": [
      "##### 2000"
     ]
    },
    {
     "cell_type": "code",
     "collapsed": false,
     "input": [
      "metal_cred_keywords = (hmm.aggregate([ {\"$match\" : { \"year\" : { \"$gte\":2000, \"$lt\":2010}}},\n",
      "                      {\"$unwind\":\"$metal_cred\"},{\"$group\" : {\"_id\" : \"$metal_cred\"}}]))['result']\n",
      "metal_cred_count = defaultdict(int)\n",
      "import re\n",
      "for key_dict in metal_cred_keywords:\n",
      "    for key, value in key_dict.items():\n",
      "        value = value.replace(\".\",\"\")\n",
      "        value = re.sub(r'\\W+', ' ', value)\n",
      "        value = value.lower()\n",
      "        word_in_metal_cred = value.split()\n",
      "        for word in word_in_metal_cred:\n",
      "            metal_cred_count[word] += 1 \n",
      "sorted_metal_cred_count = sorted(metal_cred_count.items(), key=operator.itemgetter(1))\n",
      "sorted_metal_cred_count[-10:]"
     ],
     "language": "python",
     "metadata": {},
     "outputs": [
      {
       "metadata": {},
       "output_type": "pyout",
       "prompt_number": 153,
       "text": [
        "[(u'songs', 13),\n",
        " (u'band', 14),\n",
        " (u's', 17),\n",
        " (u'and', 19),\n",
        " (u'song', 25),\n",
        " (u'dahmer', 28),\n",
        " (u'metal', 30),\n",
        " (u'of', 48),\n",
        " (u'soundtrack', 50),\n",
        " (u'the', 54)]"
       ]
      }
     ],
     "prompt_number": 153
    }
   ],
   "metadata": {}
  }
 ]
}