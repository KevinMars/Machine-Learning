{
 "metadata": {
  "name": "",
  "signature": "sha256:ce9850b7a0c1d3c7a9ccd9666dbdb63ab4c7d3706820b1f64d0b461a39eff048"
 },
 "nbformat": 3,
 "nbformat_minor": 0,
 "worksheets": [
  {
   "cells": [
    {
     "cell_type": "code",
     "collapsed": false,
     "input": [
      "import pandas as pd\n",
      "import numpy as np\n",
      "from sklearn.neighbors import KNeighborsClassifier\n",
      "from sklearn.metrics import accuracy_score\n",
      "from sklearn.linear_model import LogisticRegression\n",
      "import matplotlib.pyplot as plt\n",
      "from sklearn.metrics import precision_score\n",
      "from sklearn.metrics import f1_score\n",
      "from sklearn.metrics import recall_score\n",
      "from sklearn.metrics import roc_curve\n",
      "from sklearn.metrics import roc_auc_score\n",
      "%matplotlib inline\n",
      "\n",
      "df = pd.io.parsers.read_csv('house-votes-84.csv', header=None)\n",
      "df.head()"
     ],
     "language": "python",
     "metadata": {},
     "outputs": [
      {
       "html": [
        "<div style=\"max-height:1000px;max-width:1500px;overflow:auto;\">\n",
        "<table border=\"1\" class=\"dataframe\">\n",
        "  <thead>\n",
        "    <tr style=\"text-align: right;\">\n",
        "      <th></th>\n",
        "      <th>0</th>\n",
        "      <th>1</th>\n",
        "      <th>2</th>\n",
        "      <th>3</th>\n",
        "      <th>4</th>\n",
        "      <th>5</th>\n",
        "      <th>6</th>\n",
        "      <th>7</th>\n",
        "      <th>8</th>\n",
        "      <th>9</th>\n",
        "      <th>10</th>\n",
        "      <th>11</th>\n",
        "      <th>12</th>\n",
        "      <th>13</th>\n",
        "      <th>14</th>\n",
        "      <th>15</th>\n",
        "      <th>16</th>\n",
        "    </tr>\n",
        "  </thead>\n",
        "  <tbody>\n",
        "    <tr>\n",
        "      <th>0</th>\n",
        "      <td> republican</td>\n",
        "      <td> n</td>\n",
        "      <td> y</td>\n",
        "      <td> n</td>\n",
        "      <td> y</td>\n",
        "      <td> y</td>\n",
        "      <td> y</td>\n",
        "      <td> n</td>\n",
        "      <td> n</td>\n",
        "      <td> n</td>\n",
        "      <td> y</td>\n",
        "      <td> ?</td>\n",
        "      <td> y</td>\n",
        "      <td> y</td>\n",
        "      <td> y</td>\n",
        "      <td> n</td>\n",
        "      <td> y</td>\n",
        "    </tr>\n",
        "    <tr>\n",
        "      <th>1</th>\n",
        "      <td> republican</td>\n",
        "      <td> n</td>\n",
        "      <td> y</td>\n",
        "      <td> n</td>\n",
        "      <td> y</td>\n",
        "      <td> y</td>\n",
        "      <td> y</td>\n",
        "      <td> n</td>\n",
        "      <td> n</td>\n",
        "      <td> n</td>\n",
        "      <td> n</td>\n",
        "      <td> n</td>\n",
        "      <td> y</td>\n",
        "      <td> y</td>\n",
        "      <td> y</td>\n",
        "      <td> n</td>\n",
        "      <td> ?</td>\n",
        "    </tr>\n",
        "    <tr>\n",
        "      <th>2</th>\n",
        "      <td>   democrat</td>\n",
        "      <td> ?</td>\n",
        "      <td> y</td>\n",
        "      <td> y</td>\n",
        "      <td> ?</td>\n",
        "      <td> y</td>\n",
        "      <td> y</td>\n",
        "      <td> n</td>\n",
        "      <td> n</td>\n",
        "      <td> n</td>\n",
        "      <td> n</td>\n",
        "      <td> y</td>\n",
        "      <td> n</td>\n",
        "      <td> y</td>\n",
        "      <td> y</td>\n",
        "      <td> n</td>\n",
        "      <td> n</td>\n",
        "    </tr>\n",
        "    <tr>\n",
        "      <th>3</th>\n",
        "      <td>   democrat</td>\n",
        "      <td> n</td>\n",
        "      <td> y</td>\n",
        "      <td> y</td>\n",
        "      <td> n</td>\n",
        "      <td> ?</td>\n",
        "      <td> y</td>\n",
        "      <td> n</td>\n",
        "      <td> n</td>\n",
        "      <td> n</td>\n",
        "      <td> n</td>\n",
        "      <td> y</td>\n",
        "      <td> n</td>\n",
        "      <td> y</td>\n",
        "      <td> n</td>\n",
        "      <td> n</td>\n",
        "      <td> y</td>\n",
        "    </tr>\n",
        "    <tr>\n",
        "      <th>4</th>\n",
        "      <td>   democrat</td>\n",
        "      <td> y</td>\n",
        "      <td> y</td>\n",
        "      <td> y</td>\n",
        "      <td> n</td>\n",
        "      <td> y</td>\n",
        "      <td> y</td>\n",
        "      <td> n</td>\n",
        "      <td> n</td>\n",
        "      <td> n</td>\n",
        "      <td> n</td>\n",
        "      <td> y</td>\n",
        "      <td> ?</td>\n",
        "      <td> y</td>\n",
        "      <td> y</td>\n",
        "      <td> y</td>\n",
        "      <td> y</td>\n",
        "    </tr>\n",
        "  </tbody>\n",
        "</table>\n",
        "</div>"
       ],
       "metadata": {},
       "output_type": "pyout",
       "prompt_number": 1,
       "text": [
        "           0  1  2  3  4  5  6  7  8  9  10 11 12 13 14 15 16\n",
        "0  republican  n  y  n  y  y  y  n  n  n  y  ?  y  y  y  n  y\n",
        "1  republican  n  y  n  y  y  y  n  n  n  n  n  y  y  y  n  ?\n",
        "2    democrat  ?  y  y  ?  y  y  n  n  n  n  y  n  y  y  n  n\n",
        "3    democrat  n  y  y  n  ?  y  n  n  n  n  y  n  y  n  n  y\n",
        "4    democrat  y  y  y  n  y  y  n  n  n  n  y  ?  y  y  y  y"
       ]
      }
     ],
     "prompt_number": 1
    },
    {
     "cell_type": "code",
     "collapsed": false,
     "input": [
      "# df2 = []\n",
      "# for i in df.columns:\n",
      "#     df2.append(df[i].replace('y',1).replace('n',0))\n",
      "# df2 = pd.DataFrame(df2).T"
     ],
     "language": "python",
     "metadata": {},
     "outputs": [],
     "prompt_number": 2
    },
    {
     "cell_type": "code",
     "collapsed": false,
     "input": [
      "df = df.apply(lambda x: x.replace('y',1).replace('n',0)).replace('?', np.nan).replace('democrat',1).replace('republican',0)"
     ],
     "language": "python",
     "metadata": {},
     "outputs": [],
     "prompt_number": 3
    },
    {
     "cell_type": "markdown",
     "metadata": {},
     "source": [
      "### Challenge 1"
     ]
    },
    {
     "cell_type": "code",
     "collapsed": false,
     "input": [
      "for column in range(1,17):\n",
      "    colmean = df[column].mean()\n",
      "    df.loc[np.isnan(df[column]), column] = colmean\n",
      "df.head()"
     ],
     "language": "python",
     "metadata": {},
     "outputs": [
      {
       "html": [
        "<div style=\"max-height:1000px;max-width:1500px;overflow:auto;\">\n",
        "<table border=\"1\" class=\"dataframe\">\n",
        "  <thead>\n",
        "    <tr style=\"text-align: right;\">\n",
        "      <th></th>\n",
        "      <th>0</th>\n",
        "      <th>1</th>\n",
        "      <th>2</th>\n",
        "      <th>3</th>\n",
        "      <th>4</th>\n",
        "      <th>5</th>\n",
        "      <th>6</th>\n",
        "      <th>7</th>\n",
        "      <th>8</th>\n",
        "      <th>9</th>\n",
        "      <th>10</th>\n",
        "      <th>11</th>\n",
        "      <th>12</th>\n",
        "      <th>13</th>\n",
        "      <th>14</th>\n",
        "      <th>15</th>\n",
        "      <th>16</th>\n",
        "    </tr>\n",
        "  </thead>\n",
        "  <tbody>\n",
        "    <tr>\n",
        "      <th>0</th>\n",
        "      <td> 0</td>\n",
        "      <td> 0.00000</td>\n",
        "      <td> 1</td>\n",
        "      <td> 0</td>\n",
        "      <td> 1.000000</td>\n",
        "      <td> 1.000000</td>\n",
        "      <td> 1</td>\n",
        "      <td> 0</td>\n",
        "      <td> 0</td>\n",
        "      <td> 0</td>\n",
        "      <td> 1</td>\n",
        "      <td> 0.362319</td>\n",
        "      <td> 1.000000</td>\n",
        "      <td> 1</td>\n",
        "      <td> 1</td>\n",
        "      <td> 0</td>\n",
        "      <td> 1.000000</td>\n",
        "    </tr>\n",
        "    <tr>\n",
        "      <th>1</th>\n",
        "      <td> 0</td>\n",
        "      <td> 0.00000</td>\n",
        "      <td> 1</td>\n",
        "      <td> 0</td>\n",
        "      <td> 1.000000</td>\n",
        "      <td> 1.000000</td>\n",
        "      <td> 1</td>\n",
        "      <td> 0</td>\n",
        "      <td> 0</td>\n",
        "      <td> 0</td>\n",
        "      <td> 0</td>\n",
        "      <td> 0.000000</td>\n",
        "      <td> 1.000000</td>\n",
        "      <td> 1</td>\n",
        "      <td> 1</td>\n",
        "      <td> 0</td>\n",
        "      <td> 0.812689</td>\n",
        "    </tr>\n",
        "    <tr>\n",
        "      <th>2</th>\n",
        "      <td> 1</td>\n",
        "      <td> 0.44208</td>\n",
        "      <td> 1</td>\n",
        "      <td> 1</td>\n",
        "      <td> 0.417453</td>\n",
        "      <td> 1.000000</td>\n",
        "      <td> 1</td>\n",
        "      <td> 0</td>\n",
        "      <td> 0</td>\n",
        "      <td> 0</td>\n",
        "      <td> 0</td>\n",
        "      <td> 1.000000</td>\n",
        "      <td> 0.000000</td>\n",
        "      <td> 1</td>\n",
        "      <td> 1</td>\n",
        "      <td> 0</td>\n",
        "      <td> 0.000000</td>\n",
        "    </tr>\n",
        "    <tr>\n",
        "      <th>3</th>\n",
        "      <td> 1</td>\n",
        "      <td> 0.00000</td>\n",
        "      <td> 1</td>\n",
        "      <td> 1</td>\n",
        "      <td> 0.000000</td>\n",
        "      <td> 0.504762</td>\n",
        "      <td> 1</td>\n",
        "      <td> 0</td>\n",
        "      <td> 0</td>\n",
        "      <td> 0</td>\n",
        "      <td> 0</td>\n",
        "      <td> 1.000000</td>\n",
        "      <td> 0.000000</td>\n",
        "      <td> 1</td>\n",
        "      <td> 0</td>\n",
        "      <td> 0</td>\n",
        "      <td> 1.000000</td>\n",
        "    </tr>\n",
        "    <tr>\n",
        "      <th>4</th>\n",
        "      <td> 1</td>\n",
        "      <td> 1.00000</td>\n",
        "      <td> 1</td>\n",
        "      <td> 1</td>\n",
        "      <td> 0.000000</td>\n",
        "      <td> 1.000000</td>\n",
        "      <td> 1</td>\n",
        "      <td> 0</td>\n",
        "      <td> 0</td>\n",
        "      <td> 0</td>\n",
        "      <td> 0</td>\n",
        "      <td> 1.000000</td>\n",
        "      <td> 0.423267</td>\n",
        "      <td> 1</td>\n",
        "      <td> 1</td>\n",
        "      <td> 1</td>\n",
        "      <td> 1.000000</td>\n",
        "    </tr>\n",
        "  </tbody>\n",
        "</table>\n",
        "</div>"
       ],
       "metadata": {},
       "output_type": "pyout",
       "prompt_number": 118,
       "text": [
        "   0        1   2   3         4         5   6   7   8   9   10        11  \\\n",
        "0   0  0.00000   1   0  1.000000  1.000000   1   0   0   0   1  0.362319   \n",
        "1   0  0.00000   1   0  1.000000  1.000000   1   0   0   0   0  0.000000   \n",
        "2   1  0.44208   1   1  0.417453  1.000000   1   0   0   0   0  1.000000   \n",
        "3   1  0.00000   1   1  0.000000  0.504762   1   0   0   0   0  1.000000   \n",
        "4   1  1.00000   1   1  0.000000  1.000000   1   0   0   0   0  1.000000   \n",
        "\n",
        "         12  13  14  15        16  \n",
        "0  1.000000   1   1   0  1.000000  \n",
        "1  1.000000   1   1   0  0.812689  \n",
        "2  0.000000   1   1   0  0.000000  \n",
        "3  0.000000   1   0   0  1.000000  \n",
        "4  0.423267   1   1   1  1.000000  "
       ]
      }
     ],
     "prompt_number": 118
    },
    {
     "cell_type": "markdown",
     "metadata": {},
     "source": [
      "### Challenge 2"
     ]
    },
    {
     "cell_type": "code",
     "collapsed": false,
     "input": [
      "from sklearn.cross_validation import train_test_split\n",
      "X = df[range(1,17)]\n",
      "Y = df[0]\n",
      "X_train, X_test, Y_train, Y_test = train_test_split(X,Y, test_size=.30, random_state=4444)"
     ],
     "language": "python",
     "metadata": {},
     "outputs": [],
     "prompt_number": 5
    },
    {
     "cell_type": "markdown",
     "metadata": {},
     "source": [
      "### Challenge 3"
     ]
    },
    {
     "cell_type": "code",
     "collapsed": false,
     "input": [
      "accs = []\n",
      "for n in range(1,20):\n",
      "    model = KNeighborsClassifier(n_neighbors=n).fit(X_train,Y_train)\n",
      "    Y_test_pred = model.predict(X_test)  \n",
      "    knn_accuracy = accuracy_score(Y_test.astype(np.str_), Y_test_pred.astype(np.str_))\n",
      "    accs.append(knn_accuracy)\n",
      "    print 'KNN (n=%i) accuracy: %.4f' % (n,knn_accuracy)\n",
      "\n",
      "print 'KNN max accuracy: %.4f' % max(accs)\n",
      "plt.plot(range(1,20),accs)"
     ],
     "language": "python",
     "metadata": {},
     "outputs": [
      {
       "output_type": "stream",
       "stream": "stdout",
       "text": [
        "KNN (n=1) accuracy: 0.9008\n",
        "KNN (n=2) accuracy: 0.9160\n",
        "KNN (n=3) accuracy: 0.9008\n",
        "KNN (n=4) accuracy: 0.9313\n",
        "KNN (n=5) accuracy: 0.9160\n",
        "KNN (n=6) accuracy: 0.9160\n",
        "KNN (n=7) accuracy: 0.9160\n",
        "KNN (n=8) accuracy: 0.9160\n",
        "KNN (n=9) accuracy: 0.9313\n",
        "KNN (n=10) accuracy: 0.9160\n",
        "KNN (n=11) accuracy: 0.9237\n",
        "KNN (n=12) accuracy: 0.9237\n",
        "KNN (n=13) accuracy: 0.9237\n",
        "KNN (n=14) accuracy: 0.9237"
       ]
      },
      {
       "output_type": "stream",
       "stream": "stdout",
       "text": [
        "\n",
        "KNN (n=15) accuracy: 0.9237\n",
        "KNN (n=16) accuracy: 0.9237\n",
        "KNN (n=17) accuracy: 0.9237\n",
        "KNN (n=18) accuracy: 0.9084\n",
        "KNN (n=19) accuracy: 0.9160\n",
        "KNN max accuracy: 0.9313\n"
       ]
      },
      {
       "metadata": {},
       "output_type": "pyout",
       "prompt_number": 81,
       "text": [
        "[<matplotlib.lines.Line2D at 0x113766650>]"
       ]
      },
      {
       "metadata": {},
       "output_type": "display_data",
       "png": "[encoded data removed]",
       "text": [
        "<matplotlib.figure.Figure at 0x10e9732d0>"
       ]
      }
     ],
     "prompt_number": 81
    },
    {
     "cell_type": "markdown",
     "metadata": {},
     "source": [
      "### Challenge 4"
     ]
    },
    {
     "cell_type": "code",
     "collapsed": false,
     "input": [
      "logit_model = LogisticRegression().fit(X_train,Y_train)\n",
      "Y_test_pred_logit = logit_model.predict(X_test)\n",
      "log_accuracy = accuracy_score(Y_test.astype(str), Y_test_pred_logit.astype(str))\n",
      "print 'Logistic Regression accuracy: %.4f' % log_accuracy"
     ],
     "language": "python",
     "metadata": {},
     "outputs": [
      {
       "output_type": "stream",
       "stream": "stdout",
       "text": [
        "Logistic Regression accuracy: 0.9389\n"
       ]
      }
     ],
     "prompt_number": 79
    },
    {
     "cell_type": "markdown",
     "metadata": {},
     "source": [
      "### Challenge 5"
     ]
    },
    {
     "cell_type": "code",
     "collapsed": false,
     "input": [
      "# df.groupby(0)[0].count().plot(kind='bar')\n",
      "party_count = df[0].value_counts()\n",
      "print party_count\n",
      "plt.bar([0,.5],party_count, width=.5, )"
     ],
     "language": "python",
     "metadata": {},
     "outputs": [
      {
       "output_type": "stream",
       "stream": "stdout",
       "text": [
        "1    267\n",
        "0    168\n",
        "dtype: int64\n"
       ]
      },
      {
       "metadata": {},
       "output_type": "pyout",
       "prompt_number": 69,
       "text": [
        "<Container object of 2 artists>"
       ]
      },
      {
       "metadata": {},
       "output_type": "display_data",
       "png": "[encoded data removed]",
       "text": [
        "<matplotlib.figure.Figure at 0x10dce5d90>"
       ]
      }
     ],
     "prompt_number": 69
    },
    {
     "cell_type": "code",
     "collapsed": false,
     "input": [
      "def pred_dem(x, party_input=1):\n",
      "    pred = np.array(len(x)*[party_input])\n",
      "    return pred\n",
      "\n",
      "Y_pred_dem = pred_dem(X_test)\n",
      "democ_accuracy = accuracy_score(Y_test.astype(str),Y_pred_dem.astype(str))\n",
      "print democ_accuracy\n",
      "Y_pred_rep = pred_dem(X_test, party_input=0)\n",
      "repub_accuracy = accuracy_score(Y_test.astype(str),Y_pred_rep.astype(str))\n",
      "print repub_accuracy"
     ],
     "language": "python",
     "metadata": {},
     "outputs": [
      {
       "output_type": "stream",
       "stream": "stdout",
       "text": [
        "0.587786259542\n",
        "0.412213740458\n"
       ]
      }
     ],
     "prompt_number": 77
    },
    {
     "cell_type": "markdown",
     "metadata": {},
     "source": [
      "### Challenge 6"
     ]
    },
    {
     "cell_type": "code",
     "collapsed": false,
     "input": [
      "plt.figure(figsize=(6,4))\n",
      "\n",
      "plt.plot([log_accuracy]*19, label='Logistic Regression')\n",
      "plt.plot(accs, label='KNeighbors')\n",
      "plt.plot([democ_accuracy]*19, label='Democrat')\n",
      "plt.plot([repub_accuracy]*19, label='Republican')\n",
      "plt.ylim([0.35,1])\n",
      "plt.legend(bbox_to_anchor=(1, 0.8))"
     ],
     "language": "python",
     "metadata": {},
     "outputs": [
      {
       "metadata": {},
       "output_type": "pyout",
       "prompt_number": 106,
       "text": [
        "<matplotlib.legend.Legend at 0x1155aa990>"
       ]
      },
      {
       "metadata": {},
       "output_type": "display_data",
       "png": "[encoded data removed]",
       "text": [
        "<matplotlib.figure.Figure at 0x1147529d0>"
       ]
      }
     ],
     "prompt_number": 106
    },
    {
     "cell_type": "markdown",
     "metadata": {},
     "source": [
      "### Challenge 7"
     ]
    },
    {
     "cell_type": "code",
     "collapsed": false,
     "input": [
      "from sklearn.learning_curve import learning_curve\n",
      "\n",
      "m, train_err, test_err = learning_curve(LogisticRegression(), X, Y, train_sizes=np.linspace(0.1, 1.0, 80))\n",
      "print m\n",
      "test_cv_err = np.mean(test_err, axis=1)\n",
      "train_cv_err =  np.mean(train_err, axis=1)\n",
      "\n",
      "plt.plot(m,test_cv_err)\n",
      "plt.plot(m,train_cv_err)"
     ],
     "language": "python",
     "metadata": {},
     "outputs": [
      {
       "output_type": "stream",
       "stream": "stdout",
       "text": [
        "[ 29  32  35  38  42  45  48  52  55  58  62  65  68  71  75  78  81  85\n",
        "  88  91  95  98 101 104 108 111 114 118 121 124 128 131 134 138 141 144\n",
        " 147 151 154 157 161 164 167 171 174 177 180 184 187 190 194 197 200 204\n",
        " 207 210 214 217 220 223 227 230 233 237 240 243 247 250 253 256 260 263\n",
        " 266 270 273 276 280 283 286 290]\n"
       ]
      },
      {
       "metadata": {},
       "output_type": "pyout",
       "prompt_number": 11,
       "text": [
        "[<matplotlib.lines.Line2D at 0x10e1d92d0>]"
       ]
      },
      {
       "metadata": {},
       "output_type": "display_data",
       "png": "[encoded data removed]",
       "text": [
        "<matplotlib.figure.Figure at 0x10e1b5310>"
       ]
      }
     ],
     "prompt_number": 11
    },
    {
     "cell_type": "code",
     "collapsed": false,
     "input": [
      "from sklearn.learning_curve import learning_curve\n",
      "\n",
      "m, train_err, test_err = learning_curve(KNeighborsClassifier(n_neighbors=6), X, Y, train_sizes=np.linspace(0.1, 1.0, 80))\n",
      "\n",
      "test_cv_err = np.mean(test_err, axis=1)\n",
      "\n",
      "train_cv_err =  np.mean(train_err, axis=1)\n",
      "\n",
      "plt.plot(m,test_cv_err)\n",
      "plt.plot(m,train_cv_err)"
     ],
     "language": "python",
     "metadata": {},
     "outputs": [
      {
       "metadata": {},
       "output_type": "pyout",
       "prompt_number": 12,
       "text": [
        "[<matplotlib.lines.Line2D at 0x10e1d9a10>]"
       ]
      },
      {
       "metadata": {},
       "output_type": "display_data",
       "png": "[encoded data removed]",
       "text": [
        "<matplotlib.figure.Figure at 0x10e1d9b10>"
       ]
      }
     ],
     "prompt_number": 12
    },
    {
     "cell_type": "markdown",
     "metadata": {},
     "source": [
      "### Challenge 8"
     ]
    },
    {
     "cell_type": "code",
     "collapsed": false,
     "input": [
      "from sklearn.naive_bayes import GaussianNB\n",
      "gaussian_model = GaussianNB().fit(X_train,Y_train)\n",
      "Y_pred_gaussian = gaussian_model.predict(X_test)\n",
      "accuracy_gaussian = accuracy_score(Y_pred_gaussian, Y_test)\n",
      "print accuracy_gaussian"
     ],
     "language": "python",
     "metadata": {},
     "outputs": [
      {
       "output_type": "stream",
       "stream": "stdout",
       "text": [
        "0.93893129771\n"
       ]
      }
     ],
     "prompt_number": 13
    },
    {
     "cell_type": "code",
     "collapsed": false,
     "input": [
      "from sklearn.svm import SVC\n",
      "\n",
      "svc_model = SVC().fit(X_train, Y_train)\n",
      "Y_pred_svc = svc_model.predict(X_test)\n",
      "accuracy_svc = accuracy_score(Y_test, Y_pred_svc)\n",
      "print accuracy_svc"
     ],
     "language": "python",
     "metadata": {},
     "outputs": [
      {
       "output_type": "stream",
       "stream": "stdout",
       "text": [
        "0.954198473282\n"
       ]
      }
     ],
     "prompt_number": 14
    },
    {
     "cell_type": "code",
     "collapsed": false,
     "input": [
      "from sklearn.tree import DecisionTreeClassifier\n",
      "\n",
      "tree_model = DecisionTreeClassifier().fit(X_train, Y_train)\n",
      "Y_pred_tree = tree_model.predict(X_test)\n",
      "accuracy_tree = accuracy_score(Y_test, Y_pred_tree)\n",
      "print accuracy_tree"
     ],
     "language": "python",
     "metadata": {},
     "outputs": [
      {
       "output_type": "stream",
       "stream": "stdout",
       "text": [
        "0.954198473282\n"
       ]
      }
     ],
     "prompt_number": 15
    },
    {
     "cell_type": "code",
     "collapsed": false,
     "input": [
      "from sklearn.ensemble import RandomForestClassifier\n",
      "\n",
      "forest_model = RandomForestClassifier().fit(X_train, Y_train)\n",
      "Y_pred_forest = forest_model.predict(X_test)\n",
      "accuracy_forest = accuracy_score(Y_test, Y_pred_forest)\n",
      "print accuracy_forest"
     ],
     "language": "python",
     "metadata": {},
     "outputs": [
      {
       "output_type": "stream",
       "stream": "stdout",
       "text": [
        "0.931297709924\n"
       ]
      }
     ],
     "prompt_number": 16
    },
    {
     "cell_type": "markdown",
     "metadata": {},
     "source": [
      "### Challenge 9"
     ]
    },
    {
     "cell_type": "code",
     "collapsed": false,
     "input": [
      "from sklearn.cross_validation import cross_val_score\n",
      "\n",
      "names, accs = [],[]\n",
      "for algorithm in (LogisticRegression, \n",
      "                  KNeighborsClassifier,\n",
      "                  GaussianNB,\n",
      "                  SVC,\n",
      "                  DecisionTreeClassifier,\n",
      "                  RandomForestClassifier):\n",
      "\n",
      "    accuracy = np.mean(cross_val_score(algorithm(), X,Y, cv=10)) #10-fold cross validation\n",
      "    print '%-30s %.4f' % (algorithm.__name__, accuracy)\n",
      "    names.append(algorithm.__name__)\n",
      "    accs.append(accuracy)"
     ],
     "language": "python",
     "metadata": {},
     "outputs": [
      {
       "output_type": "stream",
       "stream": "stdout",
       "text": [
        "LogisticRegression             0.9582\n",
        "KNeighborsClassifier           0.9283\n",
        "GaussianNB                     0.9398"
       ]
      },
      {
       "output_type": "stream",
       "stream": "stdout",
       "text": [
        "\n",
        "SVC                            0.9583"
       ]
      },
      {
       "output_type": "stream",
       "stream": "stdout",
       "text": [
        "\n",
        "DecisionTreeClassifier         0.9399\n",
        "RandomForestClassifier         0.9628"
       ]
      },
      {
       "output_type": "stream",
       "stream": "stdout",
       "text": [
        "\n"
       ]
      }
     ],
     "prompt_number": 28
    },
    {
     "cell_type": "code",
     "collapsed": false,
     "input": [
      "plt.figure(figsize=(15,5))\n",
      "\n",
      "plt.subplot(121)\n",
      "plt.bar(range(6), accs, color='#75A3FF')\n",
      "plt.xticks(np.arange(6)+ 0.35, names, rotation=70)\n",
      "plt.ylabel(\"Accuracy\")\n",
      "\n",
      "plt.subplot(122)\n",
      "plt.bar(range(6), accs, color='#CC6999')\n",
      "plt.xticks(np.arange(6)+0.35, names, rotation=70)\n",
      "plt.ylim(0.88, 1.0)\n",
      "plt.ylabel(\"Accuracy\")\n",
      "plt.title('Zoom in')"
     ],
     "language": "python",
     "metadata": {},
     "outputs": [
      {
       "metadata": {},
       "output_type": "pyout",
       "prompt_number": 62,
       "text": [
        "<matplotlib.text.Text at 0x113451550>"
       ]
      },
      {
       "metadata": {},
       "output_type": "display_data",
       "png": "[encoded data removed]",
       "text": [
        "<matplotlib.figure.Figure at 0x1130f2b10>"
       ]
      }
     ],
     "prompt_number": 62
    },
    {
     "cell_type": "code",
     "collapsed": false,
     "input": [
      "df2 = pd.io.parsers.read_csv('house-votes-84.csv', header=None)\n",
      "df2.head()"
     ],
     "language": "python",
     "metadata": {},
     "outputs": [
      {
       "html": [
        "<div style=\"max-height:1000px;max-width:1500px;overflow:auto;\">\n",
        "<table border=\"1\" class=\"dataframe\">\n",
        "  <thead>\n",
        "    <tr style=\"text-align: right;\">\n",
        "      <th></th>\n",
        "      <th>0</th>\n",
        "      <th>1</th>\n",
        "      <th>2</th>\n",
        "      <th>3</th>\n",
        "      <th>4</th>\n",
        "      <th>5</th>\n",
        "      <th>6</th>\n",
        "      <th>7</th>\n",
        "      <th>8</th>\n",
        "      <th>9</th>\n",
        "      <th>10</th>\n",
        "      <th>11</th>\n",
        "      <th>12</th>\n",
        "      <th>13</th>\n",
        "      <th>14</th>\n",
        "      <th>15</th>\n",
        "      <th>16</th>\n",
        "    </tr>\n",
        "  </thead>\n",
        "  <tbody>\n",
        "    <tr>\n",
        "      <th>0</th>\n",
        "      <td> republican</td>\n",
        "      <td> n</td>\n",
        "      <td> y</td>\n",
        "      <td> n</td>\n",
        "      <td> y</td>\n",
        "      <td> y</td>\n",
        "      <td> y</td>\n",
        "      <td> n</td>\n",
        "      <td> n</td>\n",
        "      <td> n</td>\n",
        "      <td> y</td>\n",
        "      <td> ?</td>\n",
        "      <td> y</td>\n",
        "      <td> y</td>\n",
        "      <td> y</td>\n",
        "      <td> n</td>\n",
        "      <td> y</td>\n",
        "    </tr>\n",
        "    <tr>\n",
        "      <th>1</th>\n",
        "      <td> republican</td>\n",
        "      <td> n</td>\n",
        "      <td> y</td>\n",
        "      <td> n</td>\n",
        "      <td> y</td>\n",
        "      <td> y</td>\n",
        "      <td> y</td>\n",
        "      <td> n</td>\n",
        "      <td> n</td>\n",
        "      <td> n</td>\n",
        "      <td> n</td>\n",
        "      <td> n</td>\n",
        "      <td> y</td>\n",
        "      <td> y</td>\n",
        "      <td> y</td>\n",
        "      <td> n</td>\n",
        "      <td> ?</td>\n",
        "    </tr>\n",
        "    <tr>\n",
        "      <th>2</th>\n",
        "      <td>   democrat</td>\n",
        "      <td> ?</td>\n",
        "      <td> y</td>\n",
        "      <td> y</td>\n",
        "      <td> ?</td>\n",
        "      <td> y</td>\n",
        "      <td> y</td>\n",
        "      <td> n</td>\n",
        "      <td> n</td>\n",
        "      <td> n</td>\n",
        "      <td> n</td>\n",
        "      <td> y</td>\n",
        "      <td> n</td>\n",
        "      <td> y</td>\n",
        "      <td> y</td>\n",
        "      <td> n</td>\n",
        "      <td> n</td>\n",
        "    </tr>\n",
        "    <tr>\n",
        "      <th>3</th>\n",
        "      <td>   democrat</td>\n",
        "      <td> n</td>\n",
        "      <td> y</td>\n",
        "      <td> y</td>\n",
        "      <td> n</td>\n",
        "      <td> ?</td>\n",
        "      <td> y</td>\n",
        "      <td> n</td>\n",
        "      <td> n</td>\n",
        "      <td> n</td>\n",
        "      <td> n</td>\n",
        "      <td> y</td>\n",
        "      <td> n</td>\n",
        "      <td> y</td>\n",
        "      <td> n</td>\n",
        "      <td> n</td>\n",
        "      <td> y</td>\n",
        "    </tr>\n",
        "    <tr>\n",
        "      <th>4</th>\n",
        "      <td>   democrat</td>\n",
        "      <td> y</td>\n",
        "      <td> y</td>\n",
        "      <td> y</td>\n",
        "      <td> n</td>\n",
        "      <td> y</td>\n",
        "      <td> y</td>\n",
        "      <td> n</td>\n",
        "      <td> n</td>\n",
        "      <td> n</td>\n",
        "      <td> n</td>\n",
        "      <td> y</td>\n",
        "      <td> ?</td>\n",
        "      <td> y</td>\n",
        "      <td> y</td>\n",
        "      <td> y</td>\n",
        "      <td> y</td>\n",
        "    </tr>\n",
        "  </tbody>\n",
        "</table>\n",
        "</div>"
       ],
       "metadata": {},
       "output_type": "pyout",
       "prompt_number": 172,
       "text": [
        "           0  1  2  3  4  5  6  7  8  9  10 11 12 13 14 15 16\n",
        "0  republican  n  y  n  y  y  y  n  n  n  y  ?  y  y  y  n  y\n",
        "1  republican  n  y  n  y  y  y  n  n  n  n  n  y  y  y  n  ?\n",
        "2    democrat  ?  y  y  ?  y  y  n  n  n  n  y  n  y  y  n  n\n",
        "3    democrat  n  y  y  n  ?  y  n  n  n  n  y  n  y  n  n  y\n",
        "4    democrat  y  y  y  n  y  y  n  n  n  n  y  ?  y  y  y  y"
       ]
      }
     ],
     "prompt_number": 172
    },
    {
     "cell_type": "code",
     "collapsed": false,
     "input": [
      "df2 = df2.apply(lambda x: x.replace('n',0).replace('y',1).replace('?',np.nan))\n",
      "df2 = df2[-np.isnan(df2[5])]"
     ],
     "language": "python",
     "metadata": {},
     "outputs": [],
     "prompt_number": 173
    },
    {
     "cell_type": "code",
     "collapsed": false,
     "input": [
      "for column in range(1,17):\n",
      "    colmode = df2[column].mode()[0]\n",
      "    df2.loc[np.isnan(df2[column]), column] = colmode"
     ],
     "language": "python",
     "metadata": {},
     "outputs": [],
     "prompt_number": 187
    },
    {
     "cell_type": "code",
     "collapsed": false,
     "input": [
      "X = df2[range(1,5)+range(6,17)]\n",
      "Y = df2[5]\n",
      "\n",
      "X_train, X_test, Y_train, Y_test = train_test_split(X,Y, test_size = .30, random_state=4444)"
     ],
     "language": "python",
     "metadata": {},
     "outputs": [],
     "prompt_number": 189
    },
    {
     "cell_type": "code",
     "collapsed": false,
     "input": [
      "print len (X)\n",
      "len (Y)"
     ],
     "language": "python",
     "metadata": {},
     "outputs": [
      {
       "output_type": "stream",
       "stream": "stdout",
       "text": [
        "420\n"
       ]
      },
      {
       "metadata": {},
       "output_type": "pyout",
       "prompt_number": 190,
       "text": [
        "420"
       ]
      }
     ],
     "prompt_number": 190
    },
    {
     "cell_type": "code",
     "collapsed": false,
     "input": [
      "model_log = LogisticRegression().fit(X_train,Y_train)\n",
      "Y_pred_log = model_log.predict(X_test)\n",
      "accuracy_log = accuracy_score(Y_test,Y_pred_log)\n",
      "print accuracy_log"
     ],
     "language": "python",
     "metadata": {},
     "outputs": [
      {
       "output_type": "stream",
       "stream": "stdout",
       "text": [
        "0.952380952381\n"
       ]
      }
     ],
     "prompt_number": 192
    },
    {
     "cell_type": "markdown",
     "metadata": {},
     "source": [
      "### Challenge 10"
     ]
    },
    {
     "cell_type": "code",
     "collapsed": false,
     "input": [
      "for algorithm in (LogisticRegression, \n",
      "                  KNeighborsClassifier,\n",
      "                  GaussianNB,\n",
      "                  SVC,\n",
      "                  DecisionTreeClassifier,\n",
      "                  RandomForestClassifier):\n",
      "    model = cross_val_score(algorithm(),X,Y,cv=10).mean()\n",
      "    print '%-25s: %.4f' % (algorithm.__name__,model)"
     ],
     "language": "python",
     "metadata": {},
     "outputs": [
      {
       "output_type": "stream",
       "stream": "stdout",
       "text": [
        "LogisticRegression       : 0.9545\n",
        "KNeighborsClassifier     : 0.9402\n",
        "GaussianNB               : 0.9565\n",
        "SVC                      : 0.9616"
       ]
      },
      {
       "output_type": "stream",
       "stream": "stdout",
       "text": [
        "\n",
        "DecisionTreeClassifier   : 0.9448\n",
        "RandomForestClassifier   : 0.9520"
       ]
      },
      {
       "output_type": "stream",
       "stream": "stdout",
       "text": [
        "\n"
       ]
      }
     ],
     "prompt_number": 200
    },
    {
     "cell_type": "heading",
     "level": 5,
     "metadata": {},
     "source": [
      "Challenge 11 in challenges_movie_data.ipynb"
     ]
    },
    {
     "cell_type": "markdown",
     "metadata": {},
     "source": [
      "### Challenge 12"
     ]
    },
    {
     "cell_type": "code",
     "collapsed": false,
     "input": [
      "df_cancer = pd.read_csv('haberman.data', header=None)"
     ],
     "language": "python",
     "metadata": {},
     "outputs": [],
     "prompt_number": 213
    },
    {
     "cell_type": "code",
     "collapsed": false,
     "input": [
      "df_cancer.columns = ['Age','Surgery','Node','Survived']\n",
      "df_cancer = df_cancer.replace({'Survived': {2:0}}) \n",
      "df_cancer.head(10)"
     ],
     "language": "python",
     "metadata": {},
     "outputs": [
      {
       "html": [
        "<div style=\"max-height:1000px;max-width:1500px;overflow:auto;\">\n",
        "<table border=\"1\" class=\"dataframe\">\n",
        "  <thead>\n",
        "    <tr style=\"text-align: right;\">\n",
        "      <th></th>\n",
        "      <th>Age</th>\n",
        "      <th>Surgery</th>\n",
        "      <th>Node</th>\n",
        "      <th>Survived</th>\n",
        "    </tr>\n",
        "  </thead>\n",
        "  <tbody>\n",
        "    <tr>\n",
        "      <th>0</th>\n",
        "      <td> 30</td>\n",
        "      <td> 64</td>\n",
        "      <td>  1</td>\n",
        "      <td> 1</td>\n",
        "    </tr>\n",
        "    <tr>\n",
        "      <th>1</th>\n",
        "      <td> 30</td>\n",
        "      <td> 62</td>\n",
        "      <td>  3</td>\n",
        "      <td> 1</td>\n",
        "    </tr>\n",
        "    <tr>\n",
        "      <th>2</th>\n",
        "      <td> 30</td>\n",
        "      <td> 65</td>\n",
        "      <td>  0</td>\n",
        "      <td> 1</td>\n",
        "    </tr>\n",
        "    <tr>\n",
        "      <th>3</th>\n",
        "      <td> 31</td>\n",
        "      <td> 59</td>\n",
        "      <td>  2</td>\n",
        "      <td> 1</td>\n",
        "    </tr>\n",
        "    <tr>\n",
        "      <th>4</th>\n",
        "      <td> 31</td>\n",
        "      <td> 65</td>\n",
        "      <td>  4</td>\n",
        "      <td> 1</td>\n",
        "    </tr>\n",
        "    <tr>\n",
        "      <th>5</th>\n",
        "      <td> 33</td>\n",
        "      <td> 58</td>\n",
        "      <td> 10</td>\n",
        "      <td> 1</td>\n",
        "    </tr>\n",
        "    <tr>\n",
        "      <th>6</th>\n",
        "      <td> 33</td>\n",
        "      <td> 60</td>\n",
        "      <td>  0</td>\n",
        "      <td> 1</td>\n",
        "    </tr>\n",
        "    <tr>\n",
        "      <th>7</th>\n",
        "      <td> 34</td>\n",
        "      <td> 59</td>\n",
        "      <td>  0</td>\n",
        "      <td> 0</td>\n",
        "    </tr>\n",
        "    <tr>\n",
        "      <th>8</th>\n",
        "      <td> 34</td>\n",
        "      <td> 66</td>\n",
        "      <td>  9</td>\n",
        "      <td> 0</td>\n",
        "    </tr>\n",
        "    <tr>\n",
        "      <th>9</th>\n",
        "      <td> 34</td>\n",
        "      <td> 58</td>\n",
        "      <td> 30</td>\n",
        "      <td> 1</td>\n",
        "    </tr>\n",
        "  </tbody>\n",
        "</table>\n",
        "</div>"
       ],
       "metadata": {},
       "output_type": "pyout",
       "prompt_number": 216,
       "text": [
        "   Age  Surgery  Node  Survived\n",
        "0   30       64     1         1\n",
        "1   30       62     3         1\n",
        "2   30       65     0         1\n",
        "3   31       59     2         1\n",
        "4   31       65     4         1\n",
        "5   33       58    10         1\n",
        "6   33       60     0         1\n",
        "7   34       59     0         0\n",
        "8   34       66     9         0\n",
        "9   34       58    30         1"
       ]
      }
     ],
     "prompt_number": 216
    },
    {
     "cell_type": "code",
     "collapsed": false,
     "input": [
      "df_cancer.Age.describe()"
     ],
     "language": "python",
     "metadata": {},
     "outputs": [
      {
       "metadata": {},
       "output_type": "pyout",
       "prompt_number": 217,
       "text": [
        "count    306.000000\n",
        "mean      52.457516\n",
        "std       10.803452\n",
        "min       30.000000\n",
        "25%       44.000000\n",
        "50%       52.000000\n",
        "75%       60.750000\n",
        "max       83.000000\n",
        "dtype: float64"
       ]
      }
     ],
     "prompt_number": 217
    },
    {
     "cell_type": "code",
     "collapsed": false,
     "input": [
      "df_cancer.Age[df_cancer['Survived']==1].describe()"
     ],
     "language": "python",
     "metadata": {},
     "outputs": [
      {
       "metadata": {},
       "output_type": "pyout",
       "prompt_number": 225,
       "text": [
        "count    225.000000\n",
        "mean      52.017778\n",
        "std       11.012154\n",
        "min       30.000000\n",
        "25%       43.000000\n",
        "50%       52.000000\n",
        "75%       60.000000\n",
        "max       77.000000\n",
        "dtype: float64"
       ]
      }
     ],
     "prompt_number": 225
    },
    {
     "cell_type": "code",
     "collapsed": false,
     "input": [
      "df_cancer.Age[df_cancer['Survived']==0].describe()"
     ],
     "language": "python",
     "metadata": {},
     "outputs": [
      {
       "metadata": {},
       "output_type": "pyout",
       "prompt_number": 229,
       "text": [
        "count    81.000000\n",
        "mean     53.679012\n",
        "std      10.167137\n",
        "min      34.000000\n",
        "25%      46.000000\n",
        "50%      53.000000\n",
        "75%      61.000000\n",
        "max      83.000000\n",
        "dtype: float64"
       ]
      }
     ],
     "prompt_number": 229
    },
    {
     "cell_type": "code",
     "collapsed": false,
     "input": [
      "plt.figure(figsize=(15,5))\n",
      "plt.subplot(121)\n",
      "plt.hist(df_cancer['Age'], bins=13)\n",
      "plt.subplot(122)\n",
      "plt.hist(df_cancer['Node'], bins=13)"
     ],
     "language": "python",
     "metadata": {},
     "outputs": [
      {
       "metadata": {},
       "output_type": "pyout",
       "prompt_number": 245,
       "text": [
        "(array([ 217.,   33.,   20.,   14.,    6.,    9.,    2.,    2.,    1.,\n",
        "           0.,    0.,    1.,    1.]),\n",
        " array([  0.,   4.,   8.,  12.,  16.,  20.,  24.,  28.,  32.,  36.,  40.,\n",
        "         44.,  48.,  52.]),\n",
        " <a list of 13 Patch objects>)"
       ]
      },
      {
       "metadata": {},
       "output_type": "display_data",
       "png": "[encoded data removed]",
       "text": [
        "<matplotlib.figure.Figure at 0x116a4aa10>"
       ]
      }
     ],
     "prompt_number": 245
    },
    {
     "cell_type": "code",
     "collapsed": false,
     "input": [
      "print df_cancer['Surgery'].min()\n",
      "df_cancer['Surgery'].max()"
     ],
     "language": "python",
     "metadata": {},
     "outputs": [
      {
       "output_type": "stream",
       "stream": "stdout",
       "text": [
        "58\n"
       ]
      },
      {
       "metadata": {},
       "output_type": "pyout",
       "prompt_number": 256,
       "text": [
        "69"
       ]
      }
     ],
     "prompt_number": 256
    },
    {
     "cell_type": "code",
     "collapsed": false,
     "input": [
      "X = df_cancer[['Age','Surgery','Node']]\n",
      "Y = df_cancer['Survived']\n",
      "\n",
      "X_train_cancer, X_test_cancer, Y_train_cancer, Y_test_cancer = train_test_split(X,Y, test_size = .30)"
     ],
     "language": "python",
     "metadata": {},
     "outputs": [],
     "prompt_number": 297
    },
    {
     "cell_type": "code",
     "collapsed": false,
     "input": [
      "model_cancer = cross_val_score(LogisticRegression(),X,Y, cv=10).mean()\n",
      "print model_cancer"
     ],
     "language": "python",
     "metadata": {},
     "outputs": [
      {
       "output_type": "stream",
       "stream": "stdout",
       "text": [
        "0.751659946237\n"
       ]
      }
     ],
     "prompt_number": 289
    },
    {
     "cell_type": "code",
     "collapsed": false,
     "input": [
      "LogisticRegression().fit(X,Y).coef_"
     ],
     "language": "python",
     "metadata": {},
     "outputs": [
      {
       "metadata": {},
       "output_type": "pyout",
       "prompt_number": 290,
       "text": [
        "array([[-0.01854689,  0.0345458 , -0.08812314]])"
       ]
      }
     ],
     "prompt_number": 290
    },
    {
     "cell_type": "code",
     "collapsed": false,
     "input": [
      "m, train_err, test_err = learning_curve(LogisticRegression(),X,Y,train_sizes=np.linspace(0.04,1,50))\n",
      "\n",
      "plt.plot(m, train_err.mean(axis=1))\n",
      "plt.plot(m, test_err.mean(axis=1))\n",
      "# plt.xlim(0,1)\n",
      "# plt.ylim(0,1)"
     ],
     "language": "python",
     "metadata": {},
     "outputs": [
      {
       "metadata": {},
       "output_type": "pyout",
       "prompt_number": 296,
       "text": [
        "[<matplotlib.lines.Line2D at 0x11940d890>]"
       ]
      },
      {
       "metadata": {},
       "output_type": "display_data",
       "png": "[encoded data removed]",
       "text": [
        "<matplotlib.figure.Figure at 0x119374050>"
       ]
      }
     ],
     "prompt_number": 296
    },
    {
     "cell_type": "markdown",
     "metadata": {},
     "source": [
      "# Classification Performance Challenges"
     ]
    },
    {
     "cell_type": "markdown",
     "metadata": {},
     "source": [
      "### Challenge 1"
     ]
    },
    {
     "cell_type": "code",
     "collapsed": false,
     "input": [
      "df.head()"
     ],
     "language": "python",
     "metadata": {},
     "outputs": [
      {
       "html": [
        "<div style=\"max-height:1000px;max-width:1500px;overflow:auto;\">\n",
        "<table border=\"1\" class=\"dataframe\">\n",
        "  <thead>\n",
        "    <tr style=\"text-align: right;\">\n",
        "      <th></th>\n",
        "      <th>0</th>\n",
        "      <th>1</th>\n",
        "      <th>2</th>\n",
        "      <th>3</th>\n",
        "      <th>4</th>\n",
        "      <th>5</th>\n",
        "      <th>6</th>\n",
        "      <th>7</th>\n",
        "      <th>8</th>\n",
        "      <th>9</th>\n",
        "      <th>10</th>\n",
        "      <th>11</th>\n",
        "      <th>12</th>\n",
        "      <th>13</th>\n",
        "      <th>14</th>\n",
        "      <th>15</th>\n",
        "      <th>16</th>\n",
        "    </tr>\n",
        "  </thead>\n",
        "  <tbody>\n",
        "    <tr>\n",
        "      <th>0</th>\n",
        "      <td> 0</td>\n",
        "      <td> 0.00000</td>\n",
        "      <td> 1</td>\n",
        "      <td> 0</td>\n",
        "      <td> 1.000000</td>\n",
        "      <td> 1.000000</td>\n",
        "      <td> 1</td>\n",
        "      <td> 0</td>\n",
        "      <td> 0</td>\n",
        "      <td> 0</td>\n",
        "      <td> 1</td>\n",
        "      <td> 0.362319</td>\n",
        "      <td> 1.000000</td>\n",
        "      <td> 1</td>\n",
        "      <td> 1</td>\n",
        "      <td> 0</td>\n",
        "      <td> 1.000000</td>\n",
        "    </tr>\n",
        "    <tr>\n",
        "      <th>1</th>\n",
        "      <td> 0</td>\n",
        "      <td> 0.00000</td>\n",
        "      <td> 1</td>\n",
        "      <td> 0</td>\n",
        "      <td> 1.000000</td>\n",
        "      <td> 1.000000</td>\n",
        "      <td> 1</td>\n",
        "      <td> 0</td>\n",
        "      <td> 0</td>\n",
        "      <td> 0</td>\n",
        "      <td> 0</td>\n",
        "      <td> 0.000000</td>\n",
        "      <td> 1.000000</td>\n",
        "      <td> 1</td>\n",
        "      <td> 1</td>\n",
        "      <td> 0</td>\n",
        "      <td> 0.812689</td>\n",
        "    </tr>\n",
        "    <tr>\n",
        "      <th>2</th>\n",
        "      <td> 1</td>\n",
        "      <td> 0.44208</td>\n",
        "      <td> 1</td>\n",
        "      <td> 1</td>\n",
        "      <td> 0.417453</td>\n",
        "      <td> 1.000000</td>\n",
        "      <td> 1</td>\n",
        "      <td> 0</td>\n",
        "      <td> 0</td>\n",
        "      <td> 0</td>\n",
        "      <td> 0</td>\n",
        "      <td> 1.000000</td>\n",
        "      <td> 0.000000</td>\n",
        "      <td> 1</td>\n",
        "      <td> 1</td>\n",
        "      <td> 0</td>\n",
        "      <td> 0.000000</td>\n",
        "    </tr>\n",
        "    <tr>\n",
        "      <th>3</th>\n",
        "      <td> 1</td>\n",
        "      <td> 0.00000</td>\n",
        "      <td> 1</td>\n",
        "      <td> 1</td>\n",
        "      <td> 0.000000</td>\n",
        "      <td> 0.504762</td>\n",
        "      <td> 1</td>\n",
        "      <td> 0</td>\n",
        "      <td> 0</td>\n",
        "      <td> 0</td>\n",
        "      <td> 0</td>\n",
        "      <td> 1.000000</td>\n",
        "      <td> 0.000000</td>\n",
        "      <td> 1</td>\n",
        "      <td> 0</td>\n",
        "      <td> 0</td>\n",
        "      <td> 1.000000</td>\n",
        "    </tr>\n",
        "    <tr>\n",
        "      <th>4</th>\n",
        "      <td> 1</td>\n",
        "      <td> 1.00000</td>\n",
        "      <td> 1</td>\n",
        "      <td> 1</td>\n",
        "      <td> 0.000000</td>\n",
        "      <td> 1.000000</td>\n",
        "      <td> 1</td>\n",
        "      <td> 0</td>\n",
        "      <td> 0</td>\n",
        "      <td> 0</td>\n",
        "      <td> 0</td>\n",
        "      <td> 1.000000</td>\n",
        "      <td> 0.423267</td>\n",
        "      <td> 1</td>\n",
        "      <td> 1</td>\n",
        "      <td> 1</td>\n",
        "      <td> 1.000000</td>\n",
        "    </tr>\n",
        "  </tbody>\n",
        "</table>\n",
        "</div>"
       ],
       "metadata": {},
       "output_type": "pyout",
       "prompt_number": 31,
       "text": [
        "   0        1   2   3         4         5   6   7   8   9   10        11  \\\n",
        "0   0  0.00000   1   0  1.000000  1.000000   1   0   0   0   1  0.362319   \n",
        "1   0  0.00000   1   0  1.000000  1.000000   1   0   0   0   0  0.000000   \n",
        "2   1  0.44208   1   1  0.417453  1.000000   1   0   0   0   0  1.000000   \n",
        "3   1  0.00000   1   1  0.000000  0.504762   1   0   0   0   0  1.000000   \n",
        "4   1  1.00000   1   1  0.000000  1.000000   1   0   0   0   0  1.000000   \n",
        "\n",
        "         12  13  14  15        16  \n",
        "0  1.000000   1   1   0  1.000000  \n",
        "1  1.000000   1   1   0  0.812689  \n",
        "2  0.000000   1   1   0  0.000000  \n",
        "3  0.000000   1   0   0  1.000000  \n",
        "4  0.423267   1   1   1  1.000000  "
       ]
      }
     ],
     "prompt_number": 31
    },
    {
     "cell_type": "code",
     "collapsed": false,
     "input": [
      "logit_model = LogisticRegression().fit(X_train,Y_train)\n",
      "Y_test_pred_logit = logit_model.predict(X_test)\n",
      "log_accuracy = accuracy_score(Y_test, Y_test_pred_logit)\n",
      "print 'Logistic Regression accuracy: %.4f' % log_accuracy\n",
      "print 'Precision Score: %.4f' % precision_score(Y_test, Y_test_pred_logit)\n",
      "print 'Recall Score: %.4f' % recall_score(Y_test, Y_test_pred_logit)\n",
      "print 'F1 Score: %.4f\\n' % f1_score(Y_test, Y_test_pred_logit)\n",
      "\n",
      "accs = []\n",
      "for n in range(1,20):\n",
      "    model = KNeighborsClassifier(n_neighbors=n).fit(X_train,Y_train)\n",
      "    Y_test_pred = model.predict(X_test)  \n",
      "    knn_accuracy = accuracy_score(Y_test, Y_test_pred)\n",
      "    accs.append(knn_accuracy)\n",
      "print 'KNN max accuracy: %.4f' % max(accs)\n",
      "print 'Precision Score: %.4f' % precision_score(Y_test, Y_test_pred_logit)\n",
      "print 'Recall Score: %.4f' % recall_score(Y_test, Y_test_pred_logit)\n",
      "print 'F1 Score: %.4f\\n' % f1_score(Y_test, Y_test_pred_logit)\n",
      "\n",
      "gaussian_model = GaussianNB().fit(X_train,Y_train)\n",
      "Y_pred_gaussian = gaussian_model.predict(X_test)\n",
      "accuracy_gaussian = accuracy_score(Y_pred_gaussian, Y_test)\n",
      "print 'Naive Bayes accuracy: %.4f' % accuracy_gaussian\n",
      "print 'Precision Score: %.4f' % precision_score(Y_test, Y_pred_gaussian)\n",
      "print 'Recall Score: %.4f' % recall_score(Y_test, Y_pred_gaussian)\n",
      "print 'F1 Score: %.4f\\n' % f1_score(Y_test, Y_pred_gaussian)\n",
      "\n",
      "svc_model = SVC().fit(X_train, Y_train)\n",
      "Y_pred_svc = svc_model.predict(X_test)\n",
      "accuracy_svc = accuracy_score(Y_test, Y_pred_svc)\n",
      "print 'SVC accuracy: %.4f' % accuracy_svc\n",
      "print 'Precision Score: %.4f' % precision_score(Y_test, Y_pred_svc)\n",
      "print 'Recall Score: %.4f' % recall_score(Y_test, Y_pred_svc)\n",
      "print 'F1 Score: %.4f\\n' % f1_score(Y_test, Y_pred_svc)\n",
      "\n",
      "tree_model = DecisionTreeClassifier().fit(X_train, Y_train)\n",
      "Y_pred_tree = tree_model.predict(X_test)\n",
      "accuracy_tree = accuracy_score(Y_test, Y_pred_tree)\n",
      "print 'Decision Tree accuracy: %.4f' % accuracy_tree\n",
      "print 'Precision Score: %.4f' % precision_score(Y_test, Y_pred_tree)\n",
      "print 'Recall Score: %.4f' % recall_score(Y_test, Y_pred_tree)\n",
      "print 'F1 Score: %.4f\\n' % f1_score(Y_test, Y_pred_tree)\n",
      "\n",
      "forest_model = RandomForestClassifier().fit(X_train, Y_train)\n",
      "Y_pred_forest = forest_model.predict(X_test)\n",
      "accuracy_forest = accuracy_score(Y_test, Y_pred_forest)\n",
      "print 'Random Forest accuracy: %.4f' % accuracy_forest\n",
      "print 'Precision Score: %.4f' % precision_score(Y_test, Y_pred_forest)\n",
      "print 'Recall Score: %.4f' % recall_score(Y_test, Y_pred_forest)\n",
      "print 'F1 Score: %.4f\\n' % f1_score(Y_test, Y_pred_forest)\n"
     ],
     "language": "python",
     "metadata": {},
     "outputs": [
      {
       "output_type": "stream",
       "stream": "stdout",
       "text": [
        "Logistic Regression accuracy: 0.9389\n",
        "Precision Score: 0.9259\n",
        "Recall Score: 0.9740\n",
        "F1 Score: 0.9494\n",
        "\n",
        "KNN max accuracy: 0.9313"
       ]
      },
      {
       "output_type": "stream",
       "stream": "stdout",
       "text": [
        "\n",
        "Precision Score: 0.9259\n",
        "Recall Score: 0.9740\n",
        "F1 Score: 0.9494\n",
        "\n",
        "Naive Bayes accuracy: 0.9389\n",
        "Precision Score: 0.9157\n",
        "Recall Score: 0.9870\n",
        "F1 Score: 0.9500\n",
        "\n",
        "SVC accuracy: 0.9542\n",
        "Precision Score: 0.9494\n",
        "Recall Score: 0.9740\n",
        "F1 Score: 0.9615\n",
        "\n",
        "Decision Tree accuracy: 0.9389\n",
        "Precision Score: 0.9259\n",
        "Recall Score: 0.9740\n",
        "F1 Score: 0.9494\n",
        "\n",
        "Random Forest accuracy: 0.9542\n",
        "Precision Score: 0.9494\n",
        "Recall Score: 0.9740\n",
        "F1 Score: 0.9615\n",
        "\n"
       ]
      }
     ],
     "prompt_number": 32
    },
    {
     "cell_type": "markdown",
     "metadata": {},
     "source": [
      "### Challenge 2"
     ]
    },
    {
     "cell_type": "code",
     "collapsed": false,
     "input": [
      "logit_model = LogisticRegression().fit(X_train,Y_train)\n",
      "Y_test_pred_logit = logit_model.predict(X_test)\n",
      "log_accuracy = accuracy_score(Y_test, Y_test_pred_logit)\n",
      "print 'Logistic Regression accuracy: %.4f' % log_accuracy\n",
      "print 'Precision Score: %.4f' % precision_score(Y_test, Y_test_pred_logit)\n",
      "print 'Recall Score: %.4f' % recall_score(Y_test, Y_test_pred_logit)\n",
      "print 'F1 Score: %.4f' % f1_score(Y_test, Y_test_pred_logit)\n",
      "\n",
      "prob_log = logit_model.decision_function(X_test)\n",
      "fpr, tpr, thresholds = roc_curve(Y_test, prob_log)\n",
      "\n",
      "print 'AUC Score: %.4f\\n' % roc_auc_score(Y_test, prob_log)\n",
      "\n",
      "plt.plot(fpr, tpr)\n",
      "plt.xlim(-0.1, 1)\n",
      "plt.ylim(0, 1.1)\n",
      "plt.plot([0,1],[0,1], 'k--')"
     ],
     "language": "python",
     "metadata": {},
     "outputs": [
      {
       "output_type": "stream",
       "stream": "stdout",
       "text": [
        "Logistic Regression accuracy: 0.9389\n",
        "Precision Score: 0.9259\n",
        "Recall Score: 0.9740\n",
        "F1 Score: 0.9494\n",
        "AUC Score: 0.9877\n",
        "\n"
       ]
      },
      {
       "metadata": {},
       "output_type": "pyout",
       "prompt_number": 33,
       "text": [
        "[<matplotlib.lines.Line2D at 0x10e697590>]"
       ]
      },
      {
       "metadata": {},
       "output_type": "display_data",
       "png": "[encoded data removed]",
       "text": [
        "<matplotlib.figure.Figure at 0x10e6cd750>"
       ]
      }
     ],
     "prompt_number": 33
    },
    {
     "cell_type": "code",
     "collapsed": false,
     "input": [
      "model = KNeighborsClassifier(n_neighbors=6).fit(X_train,Y_train)\n",
      "Y_test_pred = model.predict(X_test)  \n",
      "knn_accuracy = accuracy_score(Y_test, Y_test_pred)\n",
      "accs.append(knn_accuracy)\n",
      "print 'KNN max accuracy: %.4f' % max(accs)\n",
      "print 'Precision Score: %.4f' % precision_score(Y_test, Y_test_pred_logit)\n",
      "print 'Recall Score: %.4f' % recall_score(Y_test, Y_test_pred_logit)\n",
      "print 'F1 Score: %.4f\\n' % f1_score(Y_test, Y_test_pred_logit)\n",
      "\n",
      "prob_knn = np.asarray(model.predict_proba(X_test))\n",
      "prob_knn = np.transpose(prob_knn)[1]\n",
      "fpr, tpr, thresholds = roc_curve(Y_test, prob_knn)\n",
      "\n",
      "\n",
      "print 'AUC Score: %.4f\\n' % roc_auc_score(Y_test, prob_knn)\n",
      "\n",
      "plt.plot(fpr, tpr)\n",
      "plt.xlim(-0.1, 1)\n",
      "plt.ylim(0, 1.1)\n",
      "plt.plot([0,1],[0,1], 'k--')"
     ],
     "language": "python",
     "metadata": {},
     "outputs": [
      {
       "output_type": "stream",
       "stream": "stdout",
       "text": [
        "KNN max accuracy: 0.9313\n",
        "Precision Score: 0.9259\n",
        "Recall Score: 0.9740\n",
        "F1 Score: 0.9494\n",
        "\n",
        "AUC Score: 0.9484\n",
        "\n"
       ]
      },
      {
       "metadata": {},
       "output_type": "pyout",
       "prompt_number": 34,
       "text": [
        "[<matplotlib.lines.Line2D at 0x10e973790>]"
       ]
      },
      {
       "metadata": {},
       "output_type": "display_data",
       "png": "[encoded data removed]",
       "text": [
        "<matplotlib.figure.Figure at 0x108365590>"
       ]
      }
     ],
     "prompt_number": 34
    },
    {
     "cell_type": "code",
     "collapsed": false,
     "input": [
      "gaussian_model = GaussianNB().fit(X_train,Y_train)\n",
      "Y_pred_gaussian = gaussian_model.predict(X_test)\n",
      "accuracy_gaussian = accuracy_score(Y_pred_gaussian, Y_test)\n",
      "print 'Naive Bayes accuracy: %.4f' % accuracy_gaussian\n",
      "print 'Precision Score: %.4f' % precision_score(Y_test, Y_pred_gaussian)\n",
      "print 'Recall Score: %.4f' % recall_score(Y_test, Y_pred_gaussian)\n",
      "print 'F1 Score: %.4f\\n' % f1_score(Y_test, Y_pred_gaussian)\n",
      "\n",
      "prob_nb = np.asarray(model.predict_proba(X_test))\n",
      "prob_nb = np.transpose(prob_nb)[1]\n",
      "fpr, tpr, thresholds = roc_curve(Y_test, prob_nb)\n",
      "\n",
      "\n",
      "print 'AUC Score: %.4f\\n' % roc_auc_score(Y_test, prob_nb)\n",
      "\n",
      "plt.plot(fpr, tpr)\n",
      "plt.xlim(-0.1, 1)\n",
      "plt.ylim(0, 1.1)\n",
      "plt.plot([0,1],[0,1], 'k--')"
     ],
     "language": "python",
     "metadata": {},
     "outputs": [
      {
       "output_type": "stream",
       "stream": "stdout",
       "text": [
        "Naive Bayes accuracy: 0.9389\n",
        "Precision Score: 0.9157\n",
        "Recall Score: 0.9870\n",
        "F1 Score: 0.9500\n",
        "\n",
        "AUC Score: 0.9484\n",
        "\n"
       ]
      },
      {
       "metadata": {},
       "output_type": "pyout",
       "prompt_number": 35,
       "text": [
        "[<matplotlib.lines.Line2D at 0x10eb5b3d0>]"
       ]
      },
      {
       "metadata": {},
       "output_type": "display_data",
       "png": "[encoded data removed]",
       "text": [
        "<matplotlib.figure.Figure at 0x10e413c90>"
       ]
      }
     ],
     "prompt_number": 35
    },
    {
     "cell_type": "code",
     "collapsed": false,
     "input": [
      "svc_model = SVC().fit(X_train, Y_train)\n",
      "Y_pred_svc = svc_model.predict(X_test)\n",
      "accuracy_svc = accuracy_score(Y_test, Y_pred_svc)\n",
      "print 'SVC accuracy: %.4f' % accuracy_svc\n",
      "print 'Precision Score: %.4f' % precision_score(Y_test, Y_pred_svc)\n",
      "print 'Recall Score: %.4f' % recall_score(Y_test, Y_pred_svc)\n",
      "print 'F1 Score: %.4f\\n' % f1_score(Y_test, Y_pred_svc)\n",
      "\n",
      "prob_svc = svc_model.decision_function(X_test)\n",
      "fpr, tpr, thresholds = roc_curve(Y_test, prob_svc)\n",
      "\n",
      "print 'AUC Score: %.4f\\n' % roc_auc_score(Y_test, prob_log)\n",
      "\n",
      "plt.plot(fpr, tpr)\n",
      "plt.xlim(-0.1, 1)\n",
      "plt.ylim(0, 1.1)\n",
      "plt.plot([0,1],[0,1], 'k--')"
     ],
     "language": "python",
     "metadata": {},
     "outputs": [
      {
       "output_type": "stream",
       "stream": "stdout",
       "text": [
        "SVC accuracy: 0.9542\n",
        "Precision Score: 0.9494\n",
        "Recall Score: 0.9740\n",
        "F1 Score: 0.9615\n",
        "\n",
        "AUC Score: 0.9877\n",
        "\n"
       ]
      },
      {
       "metadata": {},
       "output_type": "pyout",
       "prompt_number": 36,
       "text": [
        "[<matplotlib.lines.Line2D at 0x10eb65690>]"
       ]
      },
      {
       "metadata": {},
       "output_type": "display_data",
       "png": "[encoded data removed]",
       "text": [
        "<matplotlib.figure.Figure at 0x10ec66450>"
       ]
      }
     ],
     "prompt_number": 36
    },
    {
     "cell_type": "code",
     "collapsed": false,
     "input": [
      "tree_model = DecisionTreeClassifier().fit(X_train, Y_train)\n",
      "Y_pred_tree = tree_model.predict(X_test)\n",
      "accuracy_tree = accuracy_score(Y_test, Y_pred_tree)\n",
      "print 'Decision Tree accuracy: %.4f' % accuracy_tree\n",
      "print 'Precision Score: %.4f' % precision_score(Y_test, Y_pred_tree)\n",
      "print 'Recall Score: %.4f' % recall_score(Y_test, Y_pred_tree)\n",
      "print 'F1 Score: %.4f\\n' % f1_score(Y_test, Y_pred_tree)\n",
      "\n",
      "\n",
      "prob_tree = np.asarray(tree_model.predict_proba(X_test))\n",
      "prob_tree = np.transpose(prob_tree)[1]\n",
      "\n",
      "fpr, tpr, thresholds = roc_curve(Y_test,prob_tree)\n",
      "\n",
      "print 'AUC Score: %.4f\\n' % roc_auc_score(Y_test, prob_tree)\n",
      "plt.plot(fpr, tpr)\n",
      "plt.xlim(-0.1, 1)\n",
      "plt.ylim(0, 1.1)\n",
      "plt.plot([0,1],[0,1], 'k--')"
     ],
     "language": "python",
     "metadata": {},
     "outputs": [
      {
       "output_type": "stream",
       "stream": "stdout",
       "text": [
        "Decision Tree accuracy: 0.9389\n",
        "Precision Score: 0.9367\n",
        "Recall Score: 0.9610\n",
        "F1 Score: 0.9487\n",
        "\n",
        "AUC Score: 0.9342\n",
        "\n"
       ]
      },
      {
       "metadata": {},
       "output_type": "pyout",
       "prompt_number": 37,
       "text": [
        "[<matplotlib.lines.Line2D at 0x10ee8a510>]"
       ]
      },
      {
       "metadata": {},
       "output_type": "display_data",
       "png": "[encoded data removed]",
       "text": [
        "<matplotlib.figure.Figure at 0x10ee8abd0>"
       ]
      }
     ],
     "prompt_number": 37
    },
    {
     "cell_type": "code",
     "collapsed": false,
     "input": [
      "forest_model = RandomForestClassifier().fit(X_train, Y_train)\n",
      "Y_pred_forest = forest_model.predict(X_test)\n",
      "accuracy_forest = accuracy_score(Y_test, Y_pred_forest)\n",
      "print 'Random Forest accuracy: %.4f' % accuracy_forest\n",
      "print 'Precision Score: %.4f' % precision_score(Y_test, Y_pred_forest)\n",
      "print 'Recall Score: %.4f' % recall_score(Y_test, Y_pred_forest)\n",
      "print 'F1 Score: %.4f\\n' % f1_score(Y_test, Y_pred_forest)\n",
      "\n",
      "prob_forest = np.asarray(forest_model.predict_proba(X_test))\n",
      "prob_forest = np.transpose(prob_forest)[1]\n",
      "\n",
      "fpr, tpr, thresholds = roc_curve(Y_test,prob_forest)\n",
      "\n",
      "print 'AUC Score: %.4f\\n' % roc_auc_score(Y_test, prob_forest)\n",
      "plt.plot(fpr, tpr)\n",
      "plt.xlim(-0.8, 1)\n",
      "plt.ylim(0, 1.1)\n",
      "plt.plot([0,1],[0,1], 'k--')"
     ],
     "language": "python",
     "metadata": {},
     "outputs": [
      {
       "output_type": "stream",
       "stream": "stdout",
       "text": [
        "Random Forest accuracy: 0.9695\n",
        "Precision Score: 0.9620\n",
        "Recall Score: 0.9870\n",
        "F1 Score: 0.9744\n",
        "\n",
        "AUC Score: 0.9965\n",
        "\n"
       ]
      },
      {
       "metadata": {},
       "output_type": "pyout",
       "prompt_number": 38,
       "text": [
        "[<matplotlib.lines.Line2D at 0x10e94a1d0>]"
       ]
      },
      {
       "metadata": {},
       "output_type": "display_data",
       "png": "[encoded data removed]",
       "text": [
        "<matplotlib.figure.Figure at 0x10e1acc10>"
       ]
      }
     ],
     "prompt_number": 38
    },
    {
     "cell_type": "markdown",
     "metadata": {},
     "source": [
      "### Challenge 3"
     ]
    },
    {
     "cell_type": "code",
     "collapsed": false,
     "input": [
      "names, accs = [],[]\n",
      "for algorithm in (LogisticRegression, \n",
      "                  KNeighborsClassifier,\n",
      "                  GaussianNB,\n",
      "                  SVC,\n",
      "                  DecisionTreeClassifier,\n",
      "                  RandomForestClassifier):\n",
      "\n",
      "    accuracy = np.mean(cross_val_score(algorithm(), X,Y, cv=10, scoring = 'accuracy')) #10-fold cross validation\n",
      "    precision = np.mean(cross_val_score(algorithm(), X,Y, cv=10, scoring = 'precision'))\n",
      "    recall = np.mean(cross_val_score(algorithm(), X,Y, cv=10, scoring = 'recall'))\n",
      "    f1 = np.mean(cross_val_score(algorithm(), X,Y, cv=10, scoring = 'f1'))\n",
      "    print '%-25s %-10s:%.4f' % (algorithm.__name__,'Accuracy', accuracy)\n",
      "    print '%-25s %-10s:%.4f' % (algorithm.__name__,'Precision', precision)\n",
      "    print '%-25s %-10s:%.4f' % (algorithm.__name__,'Recall', recall)\n",
      "    print '%-25s %-10s:%.4f' % (algorithm.__name__,'f1', f1)\n",
      "    print '\\n'\n",
      "    names.append(algorithm.__name__)\n",
      "    accs.append(accuracy)"
     ],
     "language": "python",
     "metadata": {},
     "outputs": [
      {
       "output_type": "stream",
       "stream": "stdout",
       "text": [
        "LogisticRegression        Accuracy  :0.9582\n",
        "LogisticRegression        Precision :0.9668\n",
        "LogisticRegression        Recall    :0.9658\n",
        "LogisticRegression        f1        :0.9657\n",
        "\n",
        "\n",
        "KNeighborsClassifier      Accuracy  :0.9283"
       ]
      },
      {
       "output_type": "stream",
       "stream": "stdout",
       "text": [
        "\n",
        "KNeighborsClassifier      Precision :0.9622\n",
        "KNeighborsClassifier      Recall    :0.9211\n",
        "KNeighborsClassifier      f1        :0.9392\n",
        "\n",
        "\n",
        "GaussianNB                Accuracy  :0.9398"
       ]
      },
      {
       "output_type": "stream",
       "stream": "stdout",
       "text": [
        "\n",
        "GaussianNB                Precision :0.9512\n",
        "GaussianNB                Recall    :0.9510\n",
        "GaussianNB                f1        :0.9506\n",
        "\n",
        "\n",
        "SVC                       Accuracy  :0.9583"
       ]
      },
      {
       "output_type": "stream",
       "stream": "stdout",
       "text": [
        "\n",
        "SVC                       Precision :0.9777\n",
        "SVC                       Recall    :0.9546\n",
        "SVC                       f1        :0.9652\n",
        "\n",
        "\n",
        "DecisionTreeClassifier    Accuracy  :0.9375"
       ]
      },
      {
       "output_type": "stream",
       "stream": "stdout",
       "text": [
        "\n",
        "DecisionTreeClassifier    Precision :0.9532\n",
        "DecisionTreeClassifier    Recall    :0.9322\n",
        "DecisionTreeClassifier    f1        :0.9485\n",
        "\n",
        "\n",
        "RandomForestClassifier    Accuracy  :0.9466"
       ]
      },
      {
       "output_type": "stream",
       "stream": "stdout",
       "text": [
        "\n",
        "RandomForestClassifier    Precision :0.9776\n",
        "RandomForestClassifier    Recall    :0.9507\n",
        "RandomForestClassifier    f1        :0.9577\n",
        "\n",
        "\n"
       ]
      }
     ],
     "prompt_number": 39
    },
    {
     "cell_type": "heading",
     "level": 5,
     "metadata": {},
     "source": [
      "Challenge 4 in challenges_movie_data.ipynb\n",
      " "
     ]
    },
    {
     "cell_type": "markdown",
     "metadata": {},
     "source": [
      "## Challenge 5"
     ]
    },
    {
     "cell_type": "code",
     "collapsed": false,
     "input": [
      "cancer_logistic_model = LogisticRegression().fit(X_train_cancer,Y_train_cancer)\n",
      "\n",
      "prob_cancer = cancer_logistic_model.decision_function(X_test_cancer)\n",
      "fpr, tpr, thresholds = roc_curve(Y_test_cancer, prob_cancer)\n",
      "\n",
      "plt.plot(fpr, tpr)\n",
      "plt.plot([0,1],[0,1], 'k--')"
     ],
     "language": "python",
     "metadata": {},
     "outputs": [
      {
       "metadata": {},
       "output_type": "pyout",
       "prompt_number": 312,
       "text": [
        "[<matplotlib.lines.Line2D at 0x119e2a410>]"
       ]
      },
      {
       "metadata": {},
       "output_type": "display_data",
       "png": "[encoded data removed]",
       "text": [
        "<matplotlib.figure.Figure at 0x1198e08d0>"
       ]
      }
     ],
     "prompt_number": 312
    }
   ],
   "metadata": {}
  }
 ]
}