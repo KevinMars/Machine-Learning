{
 "metadata": {
  "name": "",
  "signature": "sha256:d740c7beab87f36e3346d12db4609b6bd10815e198e45ff1ee90cf0597741947"
 },
 "nbformat": 3,
 "nbformat_minor": 0,
 "worksheets": [
  {
   "cells": [
    {
     "cell_type": "code",
     "collapsed": false,
     "input": [
      "from pymongo import MongoClient\n",
      "\n",
      "client = MongoClient()\n",
      "ebola = client.dsbc.ebola"
     ],
     "language": "python",
     "metadata": {},
     "outputs": [],
     "prompt_number": 1
    },
    {
     "cell_type": "code",
     "collapsed": false,
     "input": [
      "answers = ebola.aggregate([ { \"$group\" : {\"_id\": \"$answer\"}}])\n",
      "answers = answers['result']"
     ],
     "language": "python",
     "metadata": {},
     "outputs": [],
     "prompt_number": 2
    },
    {
     "cell_type": "code",
     "collapsed": false,
     "input": [
      "sentences = []\n",
      "for x in answers:\n",
      "    sentences.append(x['_id'])"
     ],
     "language": "python",
     "metadata": {},
     "outputs": [],
     "prompt_number": 3
    },
    {
     "cell_type": "code",
     "collapsed": false,
     "input": [
      "clean_answers = []\n",
      "for answer in sentences:\n",
      "    clean_answer = \" \".join(answer.split('\\n')[:-1])\n",
      "    clean_answers.append(clean_answer)"
     ],
     "language": "python",
     "metadata": {},
     "outputs": [],
     "prompt_number": 4
    },
    {
     "cell_type": "code",
     "collapsed": false,
     "input": [
      "clean_sentences = ' '.join(clean_answers)"
     ],
     "language": "python",
     "metadata": {},
     "outputs": [],
     "prompt_number": 5
    },
    {
     "cell_type": "code",
     "collapsed": false,
     "input": [
      "import nltk\n",
      "from nltk.tokenize import sent_tokenize\n",
      "from textblob import TextBlob"
     ],
     "language": "python",
     "metadata": {},
     "outputs": [],
     "prompt_number": 6
    },
    {
     "cell_type": "code",
     "collapsed": false,
     "input": [
      "ebola_blob = TextBlob(clean_sentences)\n",
      "ebola_tokenize = sent_tokenize(clean_sentences)"
     ],
     "language": "python",
     "metadata": {},
     "outputs": [],
     "prompt_number": 430
    },
    {
     "cell_type": "code",
     "collapsed": false,
     "input": [
      "ebola_blob.sentiment"
     ],
     "language": "python",
     "metadata": {},
     "outputs": [
      {
       "metadata": {},
       "output_type": "pyout",
       "prompt_number": 8,
       "text": [
        "Sentiment(polarity=0.07797626756533822, subjectivity=0.4719304966115733)"
       ]
      }
     ],
     "prompt_number": 8
    },
    {
     "cell_type": "markdown",
     "metadata": {},
     "source": [
      "## Challenge 1 "
     ]
    },
    {
     "cell_type": "code",
     "collapsed": false,
     "input": [
      "from sklearn.preprocessing import scale\n",
      "from sklearn.cluster import KMeans\n",
      "import numpy as np\n",
      "from sklearn.feature_extraction.text import TfidfVectorizer\n",
      "from sklearn.naive_bayes import MultinomialNB\n",
      "from sklearn.metrics import classification_report\n",
      "from operator import itemgetter\n",
      "\n",
      "X = ebola_tokenize\n",
      "\n",
      "stop = stopwords.words('english')\n",
      "\n",
      "vectorizer = TfidfVectorizer(stop_words=stop)\n",
      "doc_vectors = vectorizer.fit_transform(X)\n",
      "\n",
      "# Don't scale because vectorizer does that already\n",
      "# doc_vectors = scale(doc_vectors, with_mean=False)"
     ],
     "language": "python",
     "metadata": {},
     "outputs": [],
     "prompt_number": 770
    },
    {
     "cell_type": "code",
     "collapsed": false,
     "input": [
      "print doc_vectors.shape\n",
      "nonzero_rows = np.array(list(set(doc_vectors.nonzero()[0])))\n",
      "doc_nonzero_vectors = doc_vectors[nonzero_rows]\n",
      "print doc_nonzero_vectors.shape\n",
      "X_nonzero = np.array(X)[nonzero_rows]"
     ],
     "language": "python",
     "metadata": {},
     "outputs": [
      {
       "output_type": "stream",
       "stream": "stdout",
       "text": [
        "(1968, 5182)\n",
        "(1948, 5182)\n"
       ]
      }
     ],
     "prompt_number": 771
    },
    {
     "cell_type": "code",
     "collapsed": false,
     "input": [
      "# vectorizer.get_feature_names()"
     ],
     "language": "python",
     "metadata": {},
     "outputs": [],
     "prompt_number": 601
    },
    {
     "cell_type": "code",
     "collapsed": false,
     "input": [
      "num_of_clusters=9\n",
      "model  = KMeans(num_of_clusters).fit(doc_nonzero_vectors)\n",
      "kmeans_clusters = model.predict(doc_nonzero_vectors)"
     ],
     "language": "python",
     "metadata": {},
     "outputs": [],
     "prompt_number": 772
    },
    {
     "cell_type": "markdown",
     "metadata": {},
     "source": [
      "##### Make a dictionary with each cluster and the sentences in it"
     ]
    },
    {
     "cell_type": "code",
     "collapsed": false,
     "input": [
      "kmeans_clusters_list = [[] for i in range(num_of_clusters)]\n",
      "for idx, sentence in enumerate(X_nonzero):\n",
      "    the_cluster = kmeans_clusters[idx]\n",
      "    for i in range(num_of_clusters):\n",
      "        if  i == the_cluster:\n",
      "            kmeans_clusters_list[i].append(sentence)"
     ],
     "language": "python",
     "metadata": {},
     "outputs": [],
     "prompt_number": 773
    },
    {
     "cell_type": "code",
     "collapsed": false,
     "input": [
      "kmeans_dict = {}\n",
      "for i in range(num_of_clusters):\n",
      "    kmeans_dict[i] = kmeans_clusters_list[i]"
     ],
     "language": "python",
     "metadata": {},
     "outputs": [],
     "prompt_number": 774
    },
    {
     "cell_type": "markdown",
     "metadata": {},
     "source": [
      "##### Make a dictionary with each cluster and the sentence index"
     ]
    },
    {
     "cell_type": "code",
     "collapsed": false,
     "input": [
      "kmeans_clusters_list = [[] for i in range(num_of_clusters)]\n",
      "for idx, sentence in enumerate(X_nonzero):\n",
      "    the_cluster = kmeans_clusters[idx]\n",
      "    for i in range(num_of_clusters):\n",
      "        if i == the_cluster:\n",
      "            kmeans_clusters_list[i].append(idx)"
     ],
     "language": "python",
     "metadata": {},
     "outputs": [],
     "prompt_number": 605
    },
    {
     "cell_type": "code",
     "collapsed": false,
     "input": [
      "kmeans_dict_index = {}\n",
      "for i in range(num_of_clusters):\n",
      "    kmeans_dict_index[i] = kmeans_clusters_list[i]"
     ],
     "language": "python",
     "metadata": {},
     "outputs": [],
     "prompt_number": 606
    },
    {
     "cell_type": "code",
     "collapsed": false,
     "input": [
      "for i in range (num_of_clusters):\n",
      "    print i, len(kmeans_clusters_list[i])"
     ],
     "language": "python",
     "metadata": {},
     "outputs": [
      {
       "output_type": "stream",
       "stream": "stdout",
       "text": [
        "0 22\n",
        "1 194\n",
        "2 1076\n",
        "3 91\n",
        "4 38\n",
        "5 28\n",
        "6 62\n",
        "7 321\n",
        "8 116\n"
       ]
      }
     ],
     "prompt_number": 775
    },
    {
     "cell_type": "markdown",
     "metadata": {},
     "source": [
      "## NGRAM COUNT"
     ]
    },
    {
     "cell_type": "code",
     "collapsed": false,
     "input": [
      "from nltk.util import ngrams\n",
      "from nltk.tokenize import sent_tokenize, word_tokenize\n",
      "\n",
      "from collections import defaultdict\n",
      "from operator import itemgetter\n",
      "\n",
      "from nltk.corpus import stopwords\n",
      "\n",
      "stop = stopwords.words('english')\n",
      "stop.append(['.', ',','(', ')', \"'\", '\"'])\n",
      "\n",
      "n = 1\n",
      "for j in range(num_of_clusters):\n",
      "    counter = defaultdict(int)\n",
      "    print '%s' % j\n",
      "    doc = \" \".join(kmeans_dict[j])\n",
      "    words = TextBlob(doc).words\n",
      "    words = [w for w in words if w not in stop]\n",
      "    bigrams = ngrams(words, n)\n",
      "    for gram in bigrams:\n",
      "        counter[gram] += 1\n",
      "    for gram, count in sorted(counter.items(), key = itemgetter(1), reverse=True)[:5]:\n",
      "        phrase = \" \".join(gram)\n",
      "        print '%20s %i' % (phrase, count)"
     ],
     "language": "python",
     "metadata": {},
     "outputs": [
      {
       "output_type": "stream",
       "stream": "stdout",
       "text": [
        "0\n",
        "                need 34"
       ]
      },
      {
       "output_type": "stream",
       "stream": "stdout",
       "text": [
        "\n",
        "               would 9\n",
        "             weapons 9\n",
        "                 n't 8\n",
        "               Ebola 7\n",
        "1\n",
        "             Written 22\n",
        "                 Oct 8\n",
        "                 Aug 6\n",
        "                 Sat 4\n",
        "                  12 3\n",
        "2\n",
        "               virus 128"
       ]
      },
      {
       "output_type": "stream",
       "stream": "stdout",
       "text": [
        "\n",
        "               Ebola 80\n",
        "                 The 21\n",
        "                  's 18\n",
        "             disease 14\n",
        "3\n",
        "                 one 82"
       ]
      },
      {
       "output_type": "stream",
       "stream": "stdout",
       "text": [
        "\n",
        "                well 38\n",
        "               Ebola 36\n",
        "                 The 25\n",
        "              people 24\n",
        "4\n",
        "                   I 128"
       ]
      },
      {
       "output_type": "stream",
       "stream": "stdout",
       "text": [
        "\n",
        "                 The 116\n",
        "                  's 85\n",
        "                 n't 67\n",
        "                  It 57\n",
        "5\n",
        "             contact 48"
       ]
      },
      {
       "output_type": "stream",
       "stream": "stdout",
       "text": [
        "\n",
        "               Ebola 43\n",
        "                West 38\n",
        "              Africa 36\n",
        "             someone 27\n",
        "6\n",
        "             disease 48"
       ]
      },
      {
       "output_type": "stream",
       "stream": "stdout",
       "text": [
        "\n",
        "                like 38\n",
        "               Ebola 34\n",
        "                  's 27\n",
        "              people 24\n",
        "7\n",
        "               would 106"
       ]
      },
      {
       "output_type": "stream",
       "stream": "stdout",
       "text": [
        "\n",
        "              people 76\n",
        "                time 37\n",
        "                   I 34\n",
        "                 The 25\n",
        "8\n",
        "               Ebola 199"
       ]
      },
      {
       "output_type": "stream",
       "stream": "stdout",
       "text": [
        "\n",
        "                 n't 38\n",
        "                  's 31\n",
        "                 The 24\n",
        "              people 20\n"
       ]
      }
     ],
     "prompt_number": 590
    },
    {
     "cell_type": "markdown",
     "metadata": {},
     "source": [
      "## Challenge 2"
     ]
    },
    {
     "cell_type": "code",
     "collapsed": false,
     "input": [
      "kmeans_inertia = []\n",
      "for j in range (1,20):\n",
      "    kmeans_inertia.append(KMeans(j).fit(doc_nonzero_vectors).inertia_)"
     ],
     "language": "python",
     "metadata": {},
     "outputs": [],
     "prompt_number": 781
    },
    {
     "cell_type": "code",
     "collapsed": false,
     "input": [
      "import matplotlib.pyplot as plt\n",
      "% matplotlib inline\n",
      "plt.plot (kmeans_inertia)"
     ],
     "language": "python",
     "metadata": {},
     "outputs": [
      {
       "metadata": {},
       "output_type": "pyout",
       "prompt_number": 782,
       "text": [
        "[<matplotlib.lines.Line2D at 0x115af9890>]"
       ]
      },
      {
       "metadata": {},
       "output_type": "display_data",
       "png": "[encoded data removed]",
       "text": [
        "<matplotlib.figure.Figure at 0x1185b19d0>"
       ]
      }
     ],
     "prompt_number": 782
    },
    {
     "cell_type": "markdown",
     "metadata": {},
     "source": [
      "## Challenge 3"
     ]
    },
    {
     "cell_type": "code",
     "collapsed": false,
     "input": [
      "from sklearn.metrics import pairwise_distances\n",
      "from scipy.spatial.distance import cdist\n",
      "from scipy.spatial.distance import pdist\n",
      "\n",
      "kmeans_centers = model.cluster_centers_"
     ],
     "language": "python",
     "metadata": {},
     "outputs": [],
     "prompt_number": 608
    },
    {
     "cell_type": "code",
     "collapsed": false,
     "input": [
      "kmeans_distances = []\n",
      "for i in range(num_of_clusters):\n",
      "    kmeans_distances.append(pairwise_distances (kmeans_centers[i], doc_nonzero_vectors, metric='euclidean'))\n",
      "for i in range (num_of_clusters):\n",
      "    print i,\":\", X_nonzero[kmeans_distances[i].argmin()], \"\\n%s People expressed a similar statement\\n\" %len(kmeans_dict[i])"
     ],
     "language": "python",
     "metadata": {},
     "outputs": [
      {
       "output_type": "stream",
       "stream": "stdout",
       "text": [
        "0 : I would also watch for fever, diarrhea, vomiting, unexplained bruising or bleeding. \n",
        "57 People expressed a similar statement\n",
        "\n",
        "1 : Where did the Ebola virus start? \n",
        "218 People expressed a similar statement\n",
        "\n",
        "2 : Yes. \n",
        "622 People expressed a similar statement\n",
        "\n",
        "3 : There is one. \n",
        "92 People expressed a similar statement\n",
        "\n",
        "4 : Written Sat. \n",
        "37 People expressed a similar statement\n",
        "\n",
        "5 : Would this help? \n",
        "151 People expressed a similar statement\n",
        "\n",
        "6 : But let's just assume your question was, \"what should people do who have been exposed to people who have symptoms and might have Ebola.\" \n",
        "200 People expressed a similar statement\n",
        "\n",
        "7 : So, disease outbreak? \n",
        "396 People expressed a similar statement\n",
        "\n",
        "8 : As for the outbreak, that's in West Africa. \n",
        "175 People expressed a similar statement\n",
        "\n"
       ]
      }
     ],
     "prompt_number": 610
    },
    {
     "cell_type": "markdown",
     "metadata": {},
     "source": [
      "## Challenge 4"
     ]
    },
    {
     "cell_type": "code",
     "collapsed": false,
     "input": [
      "kmeans_bag_words = []\n",
      "for i in range (num_of_clusters):\n",
      "     kmeans_bag_words.append(\" \".join(kmeans_dict[i]))"
     ],
     "language": "python",
     "metadata": {},
     "outputs": [],
     "prompt_number": 785
    },
    {
     "cell_type": "code",
     "collapsed": false,
     "input": [
      "cluster_vectorizer = TfidfVectorizer()\n",
      "cluster_vectors = cluster_vectorizer.fit_transform(kmeans_bag_words)"
     ],
     "language": "python",
     "metadata": {},
     "outputs": [],
     "prompt_number": 786
    },
    {
     "cell_type": "code",
     "collapsed": false,
     "input": [
      "cluster_vectors.shape"
     ],
     "language": "python",
     "metadata": {},
     "outputs": [
      {
       "metadata": {},
       "output_type": "pyout",
       "prompt_number": 787,
       "text": [
        "(9, 5301)"
       ]
      }
     ],
     "prompt_number": 787
    },
    {
     "cell_type": "code",
     "collapsed": false,
     "input": [
      "cluster_vectorizer.get_feature_names()[3091]"
     ],
     "language": "python",
     "metadata": {},
     "outputs": [
      {
       "metadata": {},
       "output_type": "pyout",
       "prompt_number": 788,
       "text": [
        "u'name'"
       ]
      }
     ],
     "prompt_number": 788
    },
    {
     "cell_type": "code",
     "collapsed": false,
     "input": [
      "cluster_keywords = []\n",
      "for j in range(num_of_clusters):\n",
      "    cluster_keywords_dict = {}\n",
      "    for row in cluster_vectors[j]:\n",
      "        counter = 0\n",
      "        print j, \"NEW CLUSTER\"\n",
      "        for i, tfidf in sorted(zip(row.indices, row.data), key=itemgetter(1), reverse=True):\n",
      "            word = cluster_vectorizer.get_feature_names()[i]\n",
      "            cluster_keywords_dict[word] = tfidf\n",
      "            if counter < 5:\n",
      "                print word, tfidf\n",
      "                counter += 1\n",
      "    cluster_keywords.append(cluster_keywords_dict)"
     ],
     "language": "python",
     "metadata": {},
     "outputs": [
      {
       "output_type": "stream",
       "stream": "stdout",
       "text": [
        "0 NEW CLUSTER\n",
        "written 0.839956555244\n",
        "oct 0.351292568176\n",
        "aug 0.263469426132\n",
        "sat 0.175646284088\n",
        "12 0.131734713066\n",
        "1"
       ]
      },
      {
       "output_type": "stream",
       "stream": "stdout",
       "text": [
        " NEW CLUSTER\n",
        "the 0.531508387341\n",
        "and 0.331385796156\n",
        "people 0.324930228698\n",
        "in 0.288348679772\n",
        "of 0.273285689038\n",
        "2"
       ]
      },
      {
       "output_type": "stream",
       "stream": "stdout",
       "text": [
        " NEW CLUSTER\n",
        "the 0.603269893085\n",
        "to 0.313005368938\n",
        "of 0.308240091357\n",
        "and 0.295658863139\n",
        "in 0.210735572663\n",
        "3"
       ]
      },
      {
       "output_type": "stream",
       "stream": "stdout",
       "text": [
        " NEW CLUSTER\n",
        "the 0.630638784798\n",
        "disease 0.44229750043\n",
        "of 0.311565590108\n",
        "to 0.220739881173\n",
        "and 0.195197719104\n",
        "4"
       ]
      },
      {
       "output_type": "stream",
       "stream": "stdout",
       "text": [
        " NEW CLUSTER\n",
        "answer 0.588263357286\n",
        "the 0.374442941543\n",
        "asked 0.366185525881\n",
        "to 0.364809705997\n",
        "is 0.19977674376\n",
        "5"
       ]
      },
      {
       "output_type": "stream",
       "stream": "stdout",
       "text": [
        " NEW CLUSTER\n",
        "going 0.582864037769\n",
        "to 0.401250612022\n",
        "the 0.322564787936\n",
        "and 0.20160299246\n",
        "in"
       ]
      },
      {
       "output_type": "stream",
       "stream": "stdout",
       "text": [
        " 0.171362543591\n",
        "6"
       ]
      },
      {
       "output_type": "stream",
       "stream": "stdout",
       "text": [
        " NEW CLUSTER\n",
        "the 0.440328330171\n",
        "know 0.365436038659\n",
        "actually 0.337238692801\n",
        "you 0.228632017589\n",
        "to"
       ]
      },
      {
       "output_type": "stream",
       "stream": "stdout",
       "text": [
        " 0.21450003572\n",
        "7"
       ]
      },
      {
       "output_type": "stream",
       "stream": "stdout",
       "text": [
        " NEW CLUSTER\n",
        "the 0.53360353971\n",
        "ebola 0.435898778575\n",
        "of 0.263206058671\n",
        "to"
       ]
      },
      {
       "output_type": "stream",
       "stream": "stdout",
       "text": [
        " 0.262840457529\n",
        "and 0.241631791567\n",
        "8"
       ]
      },
      {
       "output_type": "stream",
       "stream": "stdout",
       "text": [
        " NEW CLUSTER\n",
        "the 0.493103075076\n",
        "would 0.475106612482\n",
        "be 0.287943401504\n",
        "to"
       ]
      },
      {
       "output_type": "stream",
       "stream": "stdout",
       "text": [
        " 0.26700970621\n",
        "and 0.215957551128\n"
       ]
      }
     ],
     "prompt_number": 789
    },
    {
     "cell_type": "markdown",
     "metadata": {},
     "source": [
      "## Challenge 5"
     ]
    },
    {
     "cell_type": "code",
     "collapsed": false,
     "input": [
      "kmeans_bag_words_tagged = [[] for i in range(num_of_clusters)]\n",
      "for i in range (num_of_clusters):\n",
      "    kmeans_bag_words_tagged[i] = TextBlob(kmeans_bag_words[i])\n",
      "    kmeans_bag_words_tagged[i] = kmeans_bag_words_tagged[i].tags"
     ],
     "language": "python",
     "metadata": {},
     "outputs": [
      {
       "output_type": "stream",
       "stream": "stdout",
       "text": [
        "ERROR! Session/line number was not unique in database. History logging moved to new session 282\n"
       ]
      }
     ],
     "prompt_number": 799
    },
    {
     "cell_type": "code",
     "collapsed": false,
     "input": [
      "kmeans_bag_nouns = []\n",
      "for i in range (num_of_clusters):\n",
      "    kmeans_cluster_nouns = []\n",
      "    for word in kmeans_bag_words_tagged[i]:\n",
      "        if word[1] == \"NN\" or word[1] == \"NNP\" or word[1] == \"NNS\" or word[1] == \"NNPS\":\n",
      "            kmeans_cluster_nouns.append(word[0])\n",
      "    kmeans_bag_nouns.append(kmeans_cluster_nouns)"
     ],
     "language": "python",
     "metadata": {},
     "outputs": [],
     "prompt_number": 800
    },
    {
     "cell_type": "code",
     "collapsed": false,
     "input": [
      "kmeans_bag_nouns_final = []\n",
      "for i in range (num_of_clusters):\n",
      "    kmeans_bag_nouns_final.append(\" \".join(kmeans_bag_nouns[i]))"
     ],
     "language": "python",
     "metadata": {},
     "outputs": [],
     "prompt_number": 801
    },
    {
     "cell_type": "code",
     "collapsed": false,
     "input": [
      "print len(kmeans_bag_nouns_final)"
     ],
     "language": "python",
     "metadata": {},
     "outputs": [
      {
       "output_type": "stream",
       "stream": "stdout",
       "text": [
        "9\n"
       ]
      }
     ],
     "prompt_number": 802
    },
    {
     "cell_type": "code",
     "collapsed": false,
     "input": [
      "noun_vectorizer = TfidfVectorizer()\n",
      "noun_vectors = noun_vectorizer.fit_transform(kmeans_bag_nouns_final)"
     ],
     "language": "python",
     "metadata": {},
     "outputs": [],
     "prompt_number": 803
    },
    {
     "cell_type": "code",
     "collapsed": false,
     "input": [
      "noun_vectors.shape"
     ],
     "language": "python",
     "metadata": {},
     "outputs": [
      {
       "metadata": {},
       "output_type": "pyout",
       "prompt_number": 804,
       "text": [
        "(9, 2780)"
       ]
      }
     ],
     "prompt_number": 804
    },
    {
     "cell_type": "code",
     "collapsed": false,
     "input": [
      "cluster_noun_keywords = []\n",
      "for j in range(num_of_clusters):\n",
      "    cluster_noun_keywords_dict = {}\n",
      "    for row in noun_vectors[j]:\n",
      "        counter = 0\n",
      "        print\n",
      "        print j, \"NEW CLUSTER\"\n",
      "        print\n",
      "        for i, tfidf in sorted(zip(row.indices, row.data), key=itemgetter(1), reverse=True):\n",
      "            word = noun_vectorizer.get_feature_names()[i]\n",
      "            cluster_noun_keywords_dict[word] = tfidf       \n",
      "            if counter < 5:\n",
      "                print word, tfidf\n",
      "                counter += 1\n",
      "    cluster_noun_keywords.append(cluster_noun_keywords_dict)"
     ],
     "language": "python",
     "metadata": {},
     "outputs": [
      {
       "output_type": "stream",
       "stream": "stdout",
       "text": [
        "\n",
        "0 NEW CLUSTER\n",
        "\n",
        "oct 0.751393099666\n",
        "aug 0.56354482475\n",
        "sep 0.222406741767\n",
        "thu 0.111203370883\n",
        "membranes 0.111203370883\n",
        "\n"
       ]
      },
      {
       "output_type": "stream",
       "stream": "stdout",
       "text": [
        "1 NEW CLUSTER\n",
        "\n",
        "people 0.750518238655\n",
        "africa 0.337981723368\n",
        "ebola 0.296772934982\n",
        "west 0.268416269953\n",
        "countries 0.0947838707963\n",
        "\n"
       ]
      },
      {
       "output_type": "stream",
       "stream": "stdout",
       "text": [
        "2 NEW CLUSTER\n",
        "\n",
        "health 0.187450560162\n",
        "countries 0.156467369979\n",
        "news 0.132849954133\n",
        "time 0.121495733438\n",
        "viruses 0.118616030476\n",
        "\n"
       ]
      },
      {
       "output_type": "stream",
       "stream": "stdout",
       "text": [
        "3 NEW CLUSTER\n",
        "\n",
        "disease 0.906918434886\n",
        "ebola 0.167121542072\n",
        "virus 0.107758906455\n",
        "people 0.0923647769611\n",
        "someone 0.0850236032705\n",
        "\n"
       ]
      },
      {
       "output_type": "stream",
       "stream": "stdout",
       "text": [
        "4 NEW CLUSTER\n",
        "\n",
        "answer 0.947742270851\n",
        "question 0.142161340628\n",
        "ebola 0.0699689815608\n",
        "places 0.0473871135425\n",
        "transmission 0.0379700656546\n",
        "\n"
       ]
      },
      {
       "output_type": "stream",
       "stream": "stdout",
       "text": [
        "5 NEW CLUSTER\n",
        "\n",
        "ebola 0.268066177829\n",
        "diabetes 0.199857727848\n",
        "brussels 0.16880301877\n",
        "disease 0.155862285762\n",
        "monrovia 0.146769352029\n",
        "\n"
       ]
      },
      {
       "output_type": "stream",
       "stream": "stdout",
       "text": [
        "6 NEW CLUSTER\n",
        "\n",
        "people 0.356130551994\n",
        "ebola 0.268487480592\n",
        "things 0.18212511884\n",
        "health 0.148387729998\n",
        "cause 0.145700095072\n",
        "\n"
       ]
      },
      {
       "output_type": "stream",
       "stream": "stdout",
       "text": [
        "7 NEW CLUSTER\n",
        "\n",
        "ebola 0.857261670109\n",
        "virus 0.338625828845\n",
        "vaccine 0.0733439459248\n",
        "outbreak 0.0711398800094\n",
        "vaccines 0.0610227703197\n",
        "\n"
       ]
      },
      {
       "output_type": "stream",
       "stream": "stdout",
       "text": [
        "8 NEW CLUSTER\n",
        "\n",
        "ebola 0.272900149536\n",
        "spread 0.235620746864\n",
        "use 0.163080041916\n",
        "protection 0.15381059626\n",
        "patient 0.145519248935\n"
       ]
      }
     ],
     "prompt_number": 805
    },
    {
     "cell_type": "markdown",
     "metadata": {},
     "source": [
      "## Challenge 6"
     ]
    },
    {
     "cell_type": "code",
     "collapsed": false,
     "input": [
      "from sklearn.cluster import MiniBatchKMeans\n",
      "\n",
      "num_of_clusters=9\n",
      "mini_model  = MiniBatchKMeans(num_of_clusters).fit(doc_nonzero_vectors)\n",
      "mini_kmeans_clusters = mini_model.predict(doc_nonzero_vectors)"
     ],
     "language": "python",
     "metadata": {},
     "outputs": [],
     "prompt_number": 776
    },
    {
     "cell_type": "code",
     "collapsed": false,
     "input": [
      "len(mini_kmeans_clusters)"
     ],
     "language": "python",
     "metadata": {},
     "outputs": [
      {
       "metadata": {},
       "output_type": "pyout",
       "prompt_number": 777,
       "text": [
        "1948"
       ]
      }
     ],
     "prompt_number": 777
    },
    {
     "cell_type": "code",
     "collapsed": false,
     "input": [
      "mini_kmeans_clusters_list = [[] for i in range(num_of_clusters)]\n",
      "for idx, sentence in enumerate(X_nonzero):\n",
      "    the_cluster = mini_kmeans_clusters[idx]\n",
      "    for i in range(num_of_clusters):\n",
      "        if  i == the_cluster:\n",
      "            mini_kmeans_clusters_list[i].append(sentence)"
     ],
     "language": "python",
     "metadata": {},
     "outputs": [],
     "prompt_number": 778
    },
    {
     "cell_type": "code",
     "collapsed": false,
     "input": [
      "mini_kmeans_dict = {}\n",
      "for i in range(num_of_clusters):\n",
      "    mini_kmeans_dict[i] = mini_kmeans_clusters_list[i]"
     ],
     "language": "python",
     "metadata": {},
     "outputs": [],
     "prompt_number": 779
    },
    {
     "cell_type": "code",
     "collapsed": false,
     "input": [
      "for i in range (num_of_clusters):\n",
      "    print len(mini_kmeans_clusters_list[i])"
     ],
     "language": "python",
     "metadata": {},
     "outputs": [
      {
       "output_type": "stream",
       "stream": "stdout",
       "text": [
        "1\n",
        "776\n",
        "89\n",
        "130\n",
        "608\n",
        "24\n",
        "173\n",
        "54\n",
        "93\n"
       ]
      }
     ],
     "prompt_number": 780
    },
    {
     "cell_type": "markdown",
     "metadata": {},
     "source": [
      "## Challenge 7"
     ]
    },
    {
     "cell_type": "code",
     "collapsed": false,
     "input": [
      "kmeans_inertia_random = []\n",
      "for j in [2,3,10]:\n",
      "    init_random = []\n",
      "    for i in range (1,num_of_clusters):\n",
      "        init_random.append(KMeans(n_init=j,n_clusters=i).fit(doc_nonzero_vectors).inertia_)\n",
      "    kmeans_inertia_random.append(init_random)"
     ],
     "language": "python",
     "metadata": {},
     "outputs": [],
     "prompt_number": 815
    },
    {
     "cell_type": "code",
     "collapsed": false,
     "input": [
      "for i in range (3):    \n",
      "    plt.plot (kmeans_inertia_random[i], label=\"%s\" %(i+1))\n",
      "    plt.legend()"
     ],
     "language": "python",
     "metadata": {},
     "outputs": [
      {
       "metadata": {},
       "output_type": "display_data",
       "png": "[encoded data removed]",
       "text": [
        "<matplotlib.figure.Figure at 0x11aa46650>"
       ]
      }
     ],
     "prompt_number": 821
    },
    {
     "cell_type": "markdown",
     "metadata": {},
     "source": [
      "## Challenge 8"
     ]
    },
    {
     "cell_type": "code",
     "collapsed": false,
     "input": [],
     "language": "python",
     "metadata": {},
     "outputs": []
    }
   ],
   "metadata": {}
  }
 ]
}